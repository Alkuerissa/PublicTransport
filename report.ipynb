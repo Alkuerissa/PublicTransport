{
 "cells": [
  {
   "cell_type": "code",
   "execution_count": 31,
   "metadata": {
    "collapsed": false
   },
   "outputs": [],
   "source": [
    "%matplotlib inline\n",
    "import pandas\n",
    "import datetime\n",
    "import matplotlib.pyplot as plt\n",
    "import numpy as np\n",
    "from pylab import rcParams\n",
    "import math\n",
    "from geopy.distance import vincenty\n",
    "rcParams['figure.figsize'] = 15, 10"
   ]
  },
  {
   "cell_type": "code",
   "execution_count": 37,
   "metadata": {
    "collapsed": false
   },
   "outputs": [],
   "source": [
    "data = pandas.read_csv(r\"D:\\Dokumenty\\School\\PublicTransport\\tramwaje.csv\",\n",
    "\t\t\t\t\t   dtype = {'Status': str, 'FirstLine': int,  'Lines': str,\n",
    "\t\t\t\t\t\t\t\t'Lon': float, 'Lat': float, 'Time': datetime.datetime, 'LowFloor': bool, 'Brigade': str},\n",
    "                      parse_dates = ['Time'])\n",
    "new_data = pandas.read_csv(r\"D:\\Dokumenty\\School\\PublicTransport\\tramwaje.csv\",\n",
    "\t\t\t\t\t   dtype = {'Status': str, 'FirstLine': int,  'Lines': str,\n",
    "\t\t\t\t\t\t\t\t'Lon': float, 'Lat': float, 'Time': datetime.datetime, 'LowFloor': bool, 'Brigade': str},\n",
    "                      parse_dates = ['Time'])\n",
    "data = [data, new_data]"
   ]
  },
  {
   "cell_type": "code",
   "execution_count": 14,
   "metadata": {
    "collapsed": false
   },
   "outputs": [
    {
     "data": {
      "text/html": [
       "<div>\n",
       "<table border=\"1\" class=\"dataframe\">\n",
       "  <thead>\n",
       "    <tr style=\"text-align: right;\">\n",
       "      <th></th>\n",
       "      <th>FirstLine</th>\n",
       "      <th>Lon</th>\n",
       "      <th>Lines</th>\n",
       "      <th>Time</th>\n",
       "      <th>Lat</th>\n",
       "      <th>LowFloor</th>\n",
       "      <th>Brigade</th>\n",
       "      <th>TimeDiff</th>\n",
       "      <th>PrevLon</th>\n",
       "      <th>PrevLat</th>\n",
       "    </tr>\n",
       "  </thead>\n",
       "  <tbody>\n",
       "    <tr>\n",
       "      <th>0</th>\n",
       "      <td>25</td>\n",
       "      <td>21.034733</td>\n",
       "      <td>25</td>\n",
       "      <td>2017-05-21 15:38:04</td>\n",
       "      <td>52.258099</td>\n",
       "      <td>True</td>\n",
       "      <td>5</td>\n",
       "      <td>NaT</td>\n",
       "      <td>NaN</td>\n",
       "      <td>NaN</td>\n",
       "    </tr>\n",
       "    <tr>\n",
       "      <th>1</th>\n",
       "      <td>20</td>\n",
       "      <td>20.897888</td>\n",
       "      <td>20</td>\n",
       "      <td>2017-05-21 15:38:00</td>\n",
       "      <td>52.260101</td>\n",
       "      <td>True</td>\n",
       "      <td>6</td>\n",
       "      <td>NaT</td>\n",
       "      <td>NaN</td>\n",
       "      <td>NaN</td>\n",
       "    </tr>\n",
       "    <tr>\n",
       "      <th>2</th>\n",
       "      <td>4</td>\n",
       "      <td>21.022173</td>\n",
       "      <td>4</td>\n",
       "      <td>2017-05-21 15:38:27</td>\n",
       "      <td>52.207378</td>\n",
       "      <td>True</td>\n",
       "      <td>2</td>\n",
       "      <td>NaT</td>\n",
       "      <td>NaN</td>\n",
       "      <td>NaN</td>\n",
       "    </tr>\n",
       "    <tr>\n",
       "      <th>3</th>\n",
       "      <td>17</td>\n",
       "      <td>20.997881</td>\n",
       "      <td>17,18</td>\n",
       "      <td>2017-05-21 15:38:00</td>\n",
       "      <td>52.254669</td>\n",
       "      <td>True</td>\n",
       "      <td>5</td>\n",
       "      <td>NaT</td>\n",
       "      <td>NaN</td>\n",
       "      <td>NaN</td>\n",
       "    </tr>\n",
       "    <tr>\n",
       "      <th>4</th>\n",
       "      <td>25</td>\n",
       "      <td>20.993887</td>\n",
       "      <td>25</td>\n",
       "      <td>2017-05-21 15:38:08</td>\n",
       "      <td>52.226051</td>\n",
       "      <td>True</td>\n",
       "      <td>1</td>\n",
       "      <td>NaT</td>\n",
       "      <td>NaN</td>\n",
       "      <td>NaN</td>\n",
       "    </tr>\n",
       "    <tr>\n",
       "      <th>5</th>\n",
       "      <td>28</td>\n",
       "      <td>21.028883</td>\n",
       "      <td>28</td>\n",
       "      <td>2017-05-21 15:38:30</td>\n",
       "      <td>52.256512</td>\n",
       "      <td>True</td>\n",
       "      <td>6</td>\n",
       "      <td>NaT</td>\n",
       "      <td>NaN</td>\n",
       "      <td>NaN</td>\n",
       "    </tr>\n",
       "    <tr>\n",
       "      <th>6</th>\n",
       "      <td>9</td>\n",
       "      <td>20.946791</td>\n",
       "      <td>9</td>\n",
       "      <td>2017-05-21 15:38:30</td>\n",
       "      <td>52.178928</td>\n",
       "      <td>True</td>\n",
       "      <td>38</td>\n",
       "      <td>NaT</td>\n",
       "      <td>NaN</td>\n",
       "      <td>NaN</td>\n",
       "    </tr>\n",
       "    <tr>\n",
       "      <th>7</th>\n",
       "      <td>22</td>\n",
       "      <td>20.962631</td>\n",
       "      <td>22</td>\n",
       "      <td>2017-05-21 15:38:30</td>\n",
       "      <td>52.266991</td>\n",
       "      <td>True</td>\n",
       "      <td>7</td>\n",
       "      <td>NaT</td>\n",
       "      <td>NaN</td>\n",
       "      <td>NaN</td>\n",
       "    </tr>\n",
       "    <tr>\n",
       "      <th>8</th>\n",
       "      <td>9</td>\n",
       "      <td>21.039267</td>\n",
       "      <td>9</td>\n",
       "      <td>2017-05-21 15:38:10</td>\n",
       "      <td>52.235615</td>\n",
       "      <td>True</td>\n",
       "      <td>32</td>\n",
       "      <td>NaT</td>\n",
       "      <td>NaN</td>\n",
       "      <td>NaN</td>\n",
       "    </tr>\n",
       "    <tr>\n",
       "      <th>9</th>\n",
       "      <td>15</td>\n",
       "      <td>20.980597</td>\n",
       "      <td>15</td>\n",
       "      <td>2017-05-21 15:38:27</td>\n",
       "      <td>52.275333</td>\n",
       "      <td>True</td>\n",
       "      <td>4</td>\n",
       "      <td>NaT</td>\n",
       "      <td>NaN</td>\n",
       "      <td>NaN</td>\n",
       "    </tr>\n",
       "    <tr>\n",
       "      <th>10</th>\n",
       "      <td>9</td>\n",
       "      <td>21.084513</td>\n",
       "      <td>9</td>\n",
       "      <td>2017-05-21 15:38:30</td>\n",
       "      <td>52.244663</td>\n",
       "      <td>True</td>\n",
       "      <td>34</td>\n",
       "      <td>NaT</td>\n",
       "      <td>NaN</td>\n",
       "      <td>NaN</td>\n",
       "    </tr>\n",
       "    <tr>\n",
       "      <th>11</th>\n",
       "      <td>33</td>\n",
       "      <td>20.929880</td>\n",
       "      <td>33</td>\n",
       "      <td>2017-05-21 15:38:27</td>\n",
       "      <td>52.291809</td>\n",
       "      <td>True</td>\n",
       "      <td>9</td>\n",
       "      <td>NaT</td>\n",
       "      <td>NaN</td>\n",
       "      <td>NaN</td>\n",
       "    </tr>\n",
       "    <tr>\n",
       "      <th>12</th>\n",
       "      <td>15</td>\n",
       "      <td>20.990450</td>\n",
       "      <td>15</td>\n",
       "      <td>2017-05-21 15:38:00</td>\n",
       "      <td>52.219227</td>\n",
       "      <td>True</td>\n",
       "      <td>2</td>\n",
       "      <td>NaT</td>\n",
       "      <td>NaN</td>\n",
       "      <td>NaN</td>\n",
       "    </tr>\n",
       "    <tr>\n",
       "      <th>13</th>\n",
       "      <td>35</td>\n",
       "      <td>21.022030</td>\n",
       "      <td>35</td>\n",
       "      <td>2017-05-21 15:38:03</td>\n",
       "      <td>52.179546</td>\n",
       "      <td>True</td>\n",
       "      <td>5</td>\n",
       "      <td>NaT</td>\n",
       "      <td>NaN</td>\n",
       "      <td>NaN</td>\n",
       "    </tr>\n",
       "    <tr>\n",
       "      <th>14</th>\n",
       "      <td>10</td>\n",
       "      <td>20.900984</td>\n",
       "      <td>10</td>\n",
       "      <td>2017-05-21 15:38:23</td>\n",
       "      <td>52.238625</td>\n",
       "      <td>True</td>\n",
       "      <td>10</td>\n",
       "      <td>NaT</td>\n",
       "      <td>NaN</td>\n",
       "      <td>NaN</td>\n",
       "    </tr>\n",
       "  </tbody>\n",
       "</table>\n",
       "</div>"
      ],
      "text/plain": [
       "    FirstLine        Lon            Lines                Time        Lat  \\\n",
       "0          25  21.034733  25              2017-05-21 15:38:04  52.258099   \n",
       "1          20  20.897888  20              2017-05-21 15:38:00  52.260101   \n",
       "2           4  21.022173  4               2017-05-21 15:38:27  52.207378   \n",
       "3          17  20.997881  17,18           2017-05-21 15:38:00  52.254669   \n",
       "4          25  20.993887  25              2017-05-21 15:38:08  52.226051   \n",
       "5          28  21.028883  28              2017-05-21 15:38:30  52.256512   \n",
       "6           9  20.946791  9               2017-05-21 15:38:30  52.178928   \n",
       "7          22  20.962631  22              2017-05-21 15:38:30  52.266991   \n",
       "8           9  21.039267  9               2017-05-21 15:38:10  52.235615   \n",
       "9          15  20.980597  15              2017-05-21 15:38:27  52.275333   \n",
       "10          9  21.084513  9               2017-05-21 15:38:30  52.244663   \n",
       "11         33  20.929880  33              2017-05-21 15:38:27  52.291809   \n",
       "12         15  20.990450  15              2017-05-21 15:38:00  52.219227   \n",
       "13         35  21.022030  35              2017-05-21 15:38:03  52.179546   \n",
       "14         10  20.900984  10              2017-05-21 15:38:23  52.238625   \n",
       "\n",
       "   LowFloor Brigade  TimeDiff  PrevLon  PrevLat  \n",
       "0      True    5          NaT      NaN      NaN  \n",
       "1      True    6          NaT      NaN      NaN  \n",
       "2      True    2          NaT      NaN      NaN  \n",
       "3      True    5          NaT      NaN      NaN  \n",
       "4      True    1          NaT      NaN      NaN  \n",
       "5      True    6          NaT      NaN      NaN  \n",
       "6      True    38         NaT      NaN      NaN  \n",
       "7      True    7          NaT      NaN      NaN  \n",
       "8      True    32         NaT      NaN      NaN  \n",
       "9      True    4          NaT      NaN      NaN  \n",
       "10     True    34         NaT      NaN      NaN  \n",
       "11     True    9          NaT      NaN      NaN  \n",
       "12     True    2          NaT      NaN      NaN  \n",
       "13     True    5          NaT      NaN      NaN  \n",
       "14     True    10         NaT      NaN      NaN  "
      ]
     },
     "execution_count": 14,
     "metadata": {},
     "output_type": "execute_result"
    }
   ],
   "source": [
    "data.head(15)"
   ]
  },
  {
   "cell_type": "code",
   "execution_count": 41,
   "metadata": {
    "collapsed": false
   },
   "outputs": [
    {
     "data": {
      "text/html": [
       "<div>\n",
       "<table border=\"1\" class=\"dataframe\">\n",
       "  <thead>\n",
       "    <tr style=\"text-align: right;\">\n",
       "      <th></th>\n",
       "      <th>FirstLine</th>\n",
       "      <th>Lon</th>\n",
       "      <th>Lines</th>\n",
       "      <th>Time</th>\n",
       "      <th>Lat</th>\n",
       "      <th>LowFloor</th>\n",
       "      <th>Brigade</th>\n",
       "      <th>TimeDiff</th>\n",
       "      <th>PrevLon</th>\n",
       "      <th>PrevLat</th>\n",
       "      <th>Velocity</th>\n",
       "    </tr>\n",
       "  </thead>\n",
       "  <tbody>\n",
       "    <tr>\n",
       "      <th>3086664</th>\n",
       "      <td>22</td>\n",
       "      <td>21.002569</td>\n",
       "      <td>22</td>\n",
       "      <td>2017-05-27 13:43:34</td>\n",
       "      <td>52.227871</td>\n",
       "      <td>True</td>\n",
       "      <td>1</td>\n",
       "      <td>00:00:31</td>\n",
       "      <td>21.004406</td>\n",
       "      <td>52.228275</td>\n",
       "      <td>6.698900</td>\n",
       "    </tr>\n",
       "    <tr>\n",
       "      <th>3086529</th>\n",
       "      <td>1</td>\n",
       "      <td>20.984337</td>\n",
       "      <td>1</td>\n",
       "      <td>2017-05-27 13:43:34</td>\n",
       "      <td>52.255081</td>\n",
       "      <td>True</td>\n",
       "      <td>9</td>\n",
       "      <td>00:00:31</td>\n",
       "      <td>20.982395</td>\n",
       "      <td>52.254711</td>\n",
       "      <td>7.044979</td>\n",
       "    </tr>\n",
       "    <tr>\n",
       "      <th>3086544</th>\n",
       "      <td>35</td>\n",
       "      <td>20.937777</td>\n",
       "      <td>35</td>\n",
       "      <td>2017-05-27 13:43:34</td>\n",
       "      <td>52.274906</td>\n",
       "      <td>True</td>\n",
       "      <td>1</td>\n",
       "      <td>00:00:30</td>\n",
       "      <td>20.936439</td>\n",
       "      <td>52.273987</td>\n",
       "      <td>5.874673</td>\n",
       "    </tr>\n",
       "    <tr>\n",
       "      <th>3086497</th>\n",
       "      <td>20</td>\n",
       "      <td>21.002493</td>\n",
       "      <td>20</td>\n",
       "      <td>2017-05-27 13:43:34</td>\n",
       "      <td>52.290108</td>\n",
       "      <td>True</td>\n",
       "      <td>3</td>\n",
       "      <td>00:00:30</td>\n",
       "      <td>21.002487</td>\n",
       "      <td>52.290211</td>\n",
       "      <td>0.357578</td>\n",
       "    </tr>\n",
       "    <tr>\n",
       "      <th>3086499</th>\n",
       "      <td>14</td>\n",
       "      <td>21.024549</td>\n",
       "      <td>14</td>\n",
       "      <td>2017-05-27 13:43:34</td>\n",
       "      <td>52.190632</td>\n",
       "      <td>True</td>\n",
       "      <td>3</td>\n",
       "      <td>00:00:30</td>\n",
       "      <td>21.024572</td>\n",
       "      <td>52.190197</td>\n",
       "      <td>1.509346</td>\n",
       "    </tr>\n",
       "    <tr>\n",
       "      <th>3086501</th>\n",
       "      <td>14</td>\n",
       "      <td>21.012789</td>\n",
       "      <td>14</td>\n",
       "      <td>2017-05-27 13:43:34</td>\n",
       "      <td>52.220005</td>\n",
       "      <td>True</td>\n",
       "      <td>5</td>\n",
       "      <td>00:00:31</td>\n",
       "      <td>21.011578</td>\n",
       "      <td>52.220055</td>\n",
       "      <td>4.329024</td>\n",
       "    </tr>\n",
       "    <tr>\n",
       "      <th>3086592</th>\n",
       "      <td>15</td>\n",
       "      <td>20.979834</td>\n",
       "      <td>15</td>\n",
       "      <td>2017-05-27 13:43:34</td>\n",
       "      <td>52.214863</td>\n",
       "      <td>True</td>\n",
       "      <td>3</td>\n",
       "      <td>00:00:32</td>\n",
       "      <td>20.981052</td>\n",
       "      <td>52.216236</td>\n",
       "      <td>6.139762</td>\n",
       "    </tr>\n",
       "    <tr>\n",
       "      <th>3086507</th>\n",
       "      <td>13</td>\n",
       "      <td>20.972097</td>\n",
       "      <td>13</td>\n",
       "      <td>2017-05-27 13:43:34</td>\n",
       "      <td>52.234730</td>\n",
       "      <td>True</td>\n",
       "      <td>1</td>\n",
       "      <td>00:00:30</td>\n",
       "      <td>20.969725</td>\n",
       "      <td>52.234158</td>\n",
       "      <td>8.978405</td>\n",
       "    </tr>\n",
       "    <tr>\n",
       "      <th>3086509</th>\n",
       "      <td>6</td>\n",
       "      <td>21.119333</td>\n",
       "      <td>6</td>\n",
       "      <td>2017-05-27 13:43:34</td>\n",
       "      <td>52.238163</td>\n",
       "      <td>True</td>\n",
       "      <td>8</td>\n",
       "      <td>00:00:30</td>\n",
       "      <td>21.119343</td>\n",
       "      <td>52.238159</td>\n",
       "      <td>0.037449</td>\n",
       "    </tr>\n",
       "    <tr>\n",
       "      <th>3086622</th>\n",
       "      <td>20</td>\n",
       "      <td>20.945215</td>\n",
       "      <td>20</td>\n",
       "      <td>2017-05-27 13:43:34</td>\n",
       "      <td>52.246921</td>\n",
       "      <td>True</td>\n",
       "      <td>6</td>\n",
       "      <td>00:00:48</td>\n",
       "      <td>20.940996</td>\n",
       "      <td>52.246727</td>\n",
       "      <td>9.740623</td>\n",
       "    </tr>\n",
       "    <tr>\n",
       "      <th>3086602</th>\n",
       "      <td>7</td>\n",
       "      <td>21.043495</td>\n",
       "      <td>7</td>\n",
       "      <td>2017-05-27 13:43:34</td>\n",
       "      <td>52.249252</td>\n",
       "      <td>True</td>\n",
       "      <td>4</td>\n",
       "      <td>00:01:24</td>\n",
       "      <td>21.046406</td>\n",
       "      <td>52.248192</td>\n",
       "      <td>4.054584</td>\n",
       "    </tr>\n",
       "    <tr>\n",
       "      <th>3086603</th>\n",
       "      <td>1</td>\n",
       "      <td>21.002939</td>\n",
       "      <td>1</td>\n",
       "      <td>2017-05-27 13:43:34</td>\n",
       "      <td>52.258800</td>\n",
       "      <td>True</td>\n",
       "      <td>8</td>\n",
       "      <td>00:00:32</td>\n",
       "      <td>20.999403</td>\n",
       "      <td>52.258621</td>\n",
       "      <td>12.248786</td>\n",
       "    </tr>\n",
       "    <tr>\n",
       "      <th>3086531</th>\n",
       "      <td>17</td>\n",
       "      <td>21.001764</td>\n",
       "      <td>17,18</td>\n",
       "      <td>2017-05-27 13:43:34</td>\n",
       "      <td>52.228023</td>\n",
       "      <td>True</td>\n",
       "      <td>5</td>\n",
       "      <td>00:00:32</td>\n",
       "      <td>21.001764</td>\n",
       "      <td>52.228023</td>\n",
       "      <td>0.000000</td>\n",
       "    </tr>\n",
       "    <tr>\n",
       "      <th>3086495</th>\n",
       "      <td>13</td>\n",
       "      <td>20.930992</td>\n",
       "      <td>13</td>\n",
       "      <td>2017-05-27 13:43:34</td>\n",
       "      <td>52.224762</td>\n",
       "      <td>True</td>\n",
       "      <td>2</td>\n",
       "      <td>00:00:31</td>\n",
       "      <td>20.930988</td>\n",
       "      <td>52.224762</td>\n",
       "      <td>0.013572</td>\n",
       "    </tr>\n",
       "    <tr>\n",
       "      <th>3086639</th>\n",
       "      <td>9</td>\n",
       "      <td>20.976711</td>\n",
       "      <td>9</td>\n",
       "      <td>2017-05-27 13:43:34</td>\n",
       "      <td>52.211372</td>\n",
       "      <td>True</td>\n",
       "      <td>31</td>\n",
       "      <td>00:00:34</td>\n",
       "      <td>20.977200</td>\n",
       "      <td>52.211899</td>\n",
       "      <td>2.262814</td>\n",
       "    </tr>\n",
       "  </tbody>\n",
       "</table>\n",
       "</div>"
      ],
      "text/plain": [
       "         FirstLine        Lon            Lines                Time        Lat  \\\n",
       "3086664         22  21.002569  22              2017-05-27 13:43:34  52.227871   \n",
       "3086529          1  20.984337  1               2017-05-27 13:43:34  52.255081   \n",
       "3086544         35  20.937777  35              2017-05-27 13:43:34  52.274906   \n",
       "3086497         20  21.002493  20              2017-05-27 13:43:34  52.290108   \n",
       "3086499         14  21.024549  14              2017-05-27 13:43:34  52.190632   \n",
       "3086501         14  21.012789  14              2017-05-27 13:43:34  52.220005   \n",
       "3086592         15  20.979834  15              2017-05-27 13:43:34  52.214863   \n",
       "3086507         13  20.972097  13              2017-05-27 13:43:34  52.234730   \n",
       "3086509          6  21.119333  6               2017-05-27 13:43:34  52.238163   \n",
       "3086622         20  20.945215  20              2017-05-27 13:43:34  52.246921   \n",
       "3086602          7  21.043495  7               2017-05-27 13:43:34  52.249252   \n",
       "3086603          1  21.002939  1               2017-05-27 13:43:34  52.258800   \n",
       "3086531         17  21.001764  17,18           2017-05-27 13:43:34  52.228023   \n",
       "3086495         13  20.930992  13              2017-05-27 13:43:34  52.224762   \n",
       "3086639          9  20.976711  9               2017-05-27 13:43:34  52.211372   \n",
       "\n",
       "        LowFloor Brigade  TimeDiff    PrevLon    PrevLat   Velocity  \n",
       "3086664     True    1     00:00:31  21.004406  52.228275   6.698900  \n",
       "3086529     True    9     00:00:31  20.982395  52.254711   7.044979  \n",
       "3086544     True    1     00:00:30  20.936439  52.273987   5.874673  \n",
       "3086497     True    3     00:00:30  21.002487  52.290211   0.357578  \n",
       "3086499     True    3     00:00:30  21.024572  52.190197   1.509346  \n",
       "3086501     True    5     00:00:31  21.011578  52.220055   4.329024  \n",
       "3086592     True    3     00:00:32  20.981052  52.216236   6.139762  \n",
       "3086507     True    1     00:00:30  20.969725  52.234158   8.978405  \n",
       "3086509     True    8     00:00:30  21.119343  52.238159   0.037449  \n",
       "3086622     True    6     00:00:48  20.940996  52.246727   9.740623  \n",
       "3086602     True    4     00:01:24  21.046406  52.248192   4.054584  \n",
       "3086603     True    8     00:00:32  20.999403  52.258621  12.248786  \n",
       "3086531     True    5     00:00:32  21.001764  52.228023   0.000000  \n",
       "3086495     True    2     00:00:31  20.930988  52.224762   0.013572  \n",
       "3086639     True    31    00:00:34  20.977200  52.211899   2.262814  "
      ]
     },
     "execution_count": 41,
     "metadata": {},
     "output_type": "execute_result"
    }
   ],
   "source": [
    "data.tail(15)"
   ]
  },
  {
   "cell_type": "markdown",
   "metadata": {},
   "source": [
    "### Status"
   ]
  },
  {
   "cell_type": "code",
   "execution_count": 230,
   "metadata": {
    "collapsed": false
   },
   "outputs": [
    {
     "data": {
      "text/plain": [
       "0"
      ]
     },
     "execution_count": 230,
     "metadata": {},
     "output_type": "execute_result"
    }
   ],
   "source": [
    "len(data[data['Status'] != 'RUNNING'])"
   ]
  },
  {
   "cell_type": "markdown",
   "metadata": {},
   "source": [
    "Kolumna Status przyjmuje tylko jedną wartość, więc można się jej pozbyć."
   ]
  },
  {
   "cell_type": "code",
   "execution_count": 20,
   "metadata": {
    "collapsed": true
   },
   "outputs": [],
   "source": [
    "data = data.drop('Status', 1)"
   ]
  },
  {
   "cell_type": "markdown",
   "metadata": {},
   "source": [
    "### FirstLine"
   ]
  },
  {
   "cell_type": "code",
   "execution_count": 88,
   "metadata": {
    "collapsed": false
   },
   "outputs": [
    {
     "data": {
      "text/plain": [
       "FirstLine\n",
       "1     162787\n",
       "2      84091\n",
       "3     106001\n",
       "4     126472\n",
       "6     125666\n",
       "7     109804\n",
       "9     273449\n",
       "10    138745\n",
       "11    109677\n",
       "13     83462\n",
       "14     69135\n",
       "15    127592\n",
       "17    138964\n",
       "18     67736\n",
       "20    108955\n",
       "22    133579\n",
       "23    103876\n",
       "24    149381\n",
       "25    113673\n",
       "26    144376\n",
       "27     62003\n",
       "28    111483\n",
       "31     62368\n",
       "33    181230\n",
       "35    147967\n",
       "44     44196\n",
       "dtype: int64"
      ]
     },
     "execution_count": 88,
     "metadata": {},
     "output_type": "execute_result"
    }
   ],
   "source": [
    "data.groupby('FirstLine', sort=True).size()"
   ]
  },
  {
   "cell_type": "markdown",
   "metadata": {},
   "source": [
    "* Po porównaniu zebranych danych z rozkładem jazdy okazało się, że istnieją dane dla wszystkich funkcjonujących obecnie tramwajów poza linią 77 (linia uzupełniająca).\n",
    "\n",
    "* Najmniej obserwacji znaleziono dla linii 44 - jest to linia okresowa, co oznacza, że kursuje tylko w dni nauki szkolnej i tylko w określonych porach (5-9 i 14-18).\n",
    "\n",
    "* Najwięcej obserwacji znaleziono dla linii 9 - jeździ ona bardzo często (w godzinach 8-19 nawet co kilka minut) i kursuje prawie przez całą dobę (zaczyna o 4.10, a kończy o 1.20)"
   ]
  },
  {
   "cell_type": "markdown",
   "metadata": {},
   "source": [
    "### Lat i Lon"
   ]
  },
  {
   "cell_type": "markdown",
   "metadata": {},
   "source": [
    "#### Usunięcie danych spoza Warszawy"
   ]
  },
  {
   "cell_type": "code",
   "execution_count": 21,
   "metadata": {
    "collapsed": true,
    "scrolled": true
   },
   "outputs": [],
   "source": [
    "minLat = 52.09\n",
    "maxLat = 52.36\n",
    "minLon = 20.85\n",
    "maxLon = 21.27"
   ]
  },
  {
   "cell_type": "code",
   "execution_count": 22,
   "metadata": {
    "collapsed": true
   },
   "outputs": [],
   "source": [
    "oldLen = len(data)"
   ]
  },
  {
   "cell_type": "code",
   "execution_count": 23,
   "metadata": {
    "collapsed": false
   },
   "outputs": [],
   "source": [
    "data = data[(data['Lat'] < maxLat) & (minLat < data['Lat']) & (data['Lon'] < maxLon) & (minLon < data['Lon'])]"
   ]
  },
  {
   "cell_type": "code",
   "execution_count": 11,
   "metadata": {
    "collapsed": false
   },
   "outputs": [
    {
     "data": {
      "text/plain": [
       "0.9989357456001099"
      ]
     },
     "execution_count": 11,
     "metadata": {},
     "output_type": "execute_result"
    }
   ],
   "source": [
    "len(data) / oldLen"
   ]
  },
  {
   "cell_type": "markdown",
   "metadata": {},
   "source": [
    "Istnieją dane, dla których współrzędne geograficzne były nieprawidłowe (poza granicami Warszawy), jednak było to zaledwie 0.1% danych."
   ]
  },
  {
   "cell_type": "markdown",
   "metadata": {},
   "source": [
    "#### Obliczenie prędkości"
   ]
  },
  {
   "cell_type": "code",
   "execution_count": 37,
   "metadata": {
    "collapsed": false
   },
   "outputs": [],
   "source": [
    "n = len(data)\n",
    "maxDist = 0.05\n",
    "data = data.drop_duplicates(subset=['FirstLine', 'Brigade', 'Time']).sort_values('Time')\n",
    "data['TimeDiff'] = data.groupby(['FirstLine', 'Brigade'])['Time'].diff()\n",
    "data['PrevLon'] = data.groupby(['FirstLine', 'Brigade'])['Lon'].shift()\n",
    "data['PrevLat'] = data.groupby(['FirstLine', 'Brigade'])['Lat'].shift()"
   ]
  },
  {
   "cell_type": "code",
   "execution_count": 40,
   "metadata": {
    "collapsed": false
   },
   "outputs": [],
   "source": [
    "def dist(x1, y1, x2, y2):\n",
    "    if any(pandas.isnull([x1, y1, x2, y2])):\n",
    "        return 0\n",
    "    obj1 = (x1, y1)\n",
    "    obj2 = (x2, y2)\n",
    "    return vincenty(obj1, obj2).meters\n",
    "data['Velocity'] = data.apply(lambda x: \n",
    "                            dist(x['Lon'], x['Lat'], x['PrevLon'], x['PrevLat']) / (x['TimeDiff'].seconds if pandas.notnull(x['TimeDiff'] and x['TimeDiff']) else 1),\n",
    "                            axis=1)"
   ]
  },
  {
   "cell_type": "code",
   "execution_count": null,
   "metadata": {
    "collapsed": true
   },
   "outputs": [],
   "source": [
    "data['Velocity'] = data.apply(lambda x: x['Move'] / x['TimeDiff'].second)"
   ]
  },
  {
   "cell_type": "code",
   "execution_count": 253,
   "metadata": {
    "collapsed": false
   },
   "outputs": [
    {
     "name": "stdout",
     "output_type": "stream",
     "text": [
      "21.0347328\n",
      "20.897888199999997\n",
      "21.022172899999997\n",
      "20.9978809\n",
      "20.993886899999996\n",
      "21.028883\n",
      "20.9467907\n",
      "20.9626312\n",
      "21.0392666\n",
      "20.9805965\n",
      "21.084512699999998\n",
      "20.929880100000002\n",
      "20.990449899999998\n",
      "21.0220299\n",
      "20.900983800000002\n"
     ]
    },
    {
     "data": {
      "text/plain": [
       "0     None\n",
       "1     None\n",
       "2     None\n",
       "3     None\n",
       "4     None\n",
       "5     None\n",
       "6     None\n",
       "7     None\n",
       "8     None\n",
       "9     None\n",
       "10    None\n",
       "11    None\n",
       "12    None\n",
       "13    None\n",
       "14    None\n",
       "dtype: object"
      ]
     },
     "execution_count": 253,
     "metadata": {},
     "output_type": "execute_result"
    }
   ],
   "source": [
    "data.head(15).apply(lambda x: print(x['Lon']), axis=1)"
   ]
  },
  {
   "cell_type": "markdown",
   "metadata": {},
   "source": [
    "### Time"
   ]
  },
  {
   "cell_type": "code",
   "execution_count": 93,
   "metadata": {
    "collapsed": false,
    "scrolled": true
   },
   "outputs": [],
   "source": [
    "data['Day'] = data['Time'].map(lambda x: x.day)"
   ]
  },
  {
   "cell_type": "code",
   "execution_count": 94,
   "metadata": {
    "collapsed": false
   },
   "outputs": [
    {
     "data": {
      "text/plain": [
       "Day\n",
       "21    128058\n",
       "22    436128\n",
       "23    571255\n",
       "24    602265\n",
       "25    581940\n",
       "26    590683\n",
       "27    173054\n",
       "dtype: int64"
      ]
     },
     "execution_count": 94,
     "metadata": {},
     "output_type": "execute_result"
    }
   ],
   "source": [
    "data.groupby('Day').size()"
   ]
  },
  {
   "cell_type": "markdown",
   "metadata": {},
   "source": [
    "Pełne dane są dostępne tylko z okresu 23-26 marca."
   ]
  },
  {
   "cell_type": "code",
   "execution_count": 95,
   "metadata": {
    "collapsed": false
   },
   "outputs": [],
   "source": [
    "startTime = datetime.datetime(year=2017, month=5, day=24, hour=2)\n",
    "endTime = datetime.datetime(year=2017, month=5, day=25, hour=3)\n",
    "dataOneDay = data[(data['Time'] > startTime) & (data['Time'] < endTime)]"
   ]
  },
  {
   "cell_type": "code",
   "execution_count": 198,
   "metadata": {
    "collapsed": false
   },
   "outputs": [
    {
     "data": {
      "image/png": "[encoded data removed]",
      "text/plain": [
       "<matplotlib.figure.Figure at 0x164e86e7898>"
      ]
     },
     "metadata": {},
     "output_type": "display_data"
    }
   ],
   "source": [
    "plt.hist([t.timestamp() for t in dataOneDay['Time']])\n",
    "locs, labels = plt.xticks()\n",
    "plt.xticks(locs,[datetime.datetime.fromtimestamp(t) for t in locs], rotation='vertical')\n",
    "plt.show()"
   ]
  },
  {
   "cell_type": "markdown",
   "metadata": {},
   "source": [
    "### LowFloor"
   ]
  },
  {
   "cell_type": "code",
   "execution_count": 177,
   "metadata": {
    "collapsed": false
   },
   "outputs": [
    {
     "name": "stderr",
     "output_type": "stream",
     "text": [
      "D:\\Programy\\Anaconda\\lib\\site-packages\\pandas\\core\\indexing.py:461: SettingWithCopyWarning: \n",
      "A value is trying to be set on a copy of a slice from a DataFrame.\n",
      "Try using .loc[row_indexer,col_indexer] = value instead\n",
      "\n",
      "See the caveats in the documentation: http://pandas.pydata.org/pandas-docs/stable/indexing.html#indexing-view-versus-copy\n",
      "  self.obj[item] = s\n"
     ]
    }
   ],
   "source": [
    "dataRoundedTime = dataOneDay\n",
    "dataRoundedTime['Time'] = [t - datetime.timedelta(seconds=t.second, microseconds=t.microsecond) for t in dataOneDay['Time']]"
   ]
  },
  {
   "cell_type": "code",
   "execution_count": 206,
   "metadata": {
    "collapsed": false
   },
   "outputs": [
    {
     "data": {
      "text/plain": [
       "([<matplotlib.axis.XTick at 0x164f746e128>,\n",
       "  <matplotlib.axis.XTick at 0x164f746ecf8>,\n",
       "  <matplotlib.axis.XTick at 0x164f74cc940>,\n",
       "  <matplotlib.axis.XTick at 0x164f74d7e48>,\n",
       "  <matplotlib.axis.XTick at 0x164f74e27f0>,\n",
       "  <matplotlib.axis.XTick at 0x164f74e4240>,\n",
       "  <matplotlib.axis.XTick at 0x164f74e4c50>,\n",
       "  <matplotlib.axis.XTick at 0x164f74e86a0>,\n",
       "  <matplotlib.axis.XTick at 0x164f74ee0f0>,\n",
       "  <matplotlib.axis.XTick at 0x164f74eeb00>,\n",
       "  <matplotlib.axis.XTick at 0x164f74f0550>],\n",
       " <a list of 11 Text xticklabel objects>)"
      ]
     },
     "execution_count": 206,
     "metadata": {},
     "output_type": "execute_result"
    },
    {
     "data": {
      "image/png": "[encoded data removed]",
      "text/plain": [
       "<matplotlib.figure.Figure at 0x164f7429198>"
      ]
     },
     "metadata": {},
     "output_type": "display_data"
    }
   ],
   "source": [
    "dataLowFloor = dataRoundedTime[dataRoundedTime['LowFloor']].groupby('Time').size()\n",
    "fig, ax = plt.subplots()\n",
    "ax.plot(dataLowFloor, label=\"niskopodłogowe\")\n",
    "dataHighFloor = dataRoundedTime[~dataRoundedTime['LowFloor']].groupby('Time').size()\n",
    "ax.plot(dataHighFloor, label=\"wysokopodłogowe\")\n",
    "legend = ax.legend(loc='upper right')\n",
    "locs, labels = plt.xticks()\n",
    "plt.xticks(locs, rotation='vertical')"
   ]
  },
  {
   "cell_type": "code",
   "execution_count": 28,
   "metadata": {
    "collapsed": false
   },
   "outputs": [],
   "source": [
    "lowFloorByLine = data.groupby('FirstLine').LowFloor.agg(['sum', 'count'])\n",
    "lowFloorByLine['LowFloorFraction'] = lowFloorByLine['sum'] / lowFloorByLine['count']\n",
    "lowFloorByLine.sort_values('LowFloorFraction', ascending=False, inplace=True)\n",
    "lowFloorByLine = lowFloorByLine.reset_index()"
   ]
  },
  {
   "cell_type": "code",
   "execution_count": 35,
   "metadata": {
    "collapsed": false
   },
   "outputs": [
    {
     "data": {
      "text/plain": [
       "<matplotlib.text.Text at 0x1e533d7ceb8>"
      ]
     },
     "execution_count": 35,
     "metadata": {},
     "output_type": "execute_result"
    },
    {
     "data": {
      "image/png": "[encoded data removed]",
      "text/plain": [
       "<matplotlib.figure.Figure at 0x1e533f1def0>"
      ]
     },
     "metadata": {},
     "output_type": "display_data"
    }
   ],
   "source": [
    "plt.bar(list(range(len(lowFloorByLine))), lowFloorByLine['LowFloorFraction'], tick_label=lowFloorByLine['FirstLine'])\n",
    "plt.title(\"Frakcja tramwajów wysokopodłogowych na liniach\")"
   ]
  },
  {
   "cell_type": "markdown",
   "metadata": {},
   "source": [
    "Procentowo najwięcej wysokopodłogowych tramwajów kursuje na linii 44 - linii okresowej."
   ]
  },
  {
   "cell_type": "code",
   "execution_count": null,
   "metadata": {
    "collapsed": true
   },
   "outputs": [],
   "source": []
  }
 ],
 "metadata": {
  "kernelspec": {
   "display_name": "Python 3",
   "language": "python",
   "name": "python3"
  },
  "language_info": {
   "codemirror_mode": {
    "name": "ipython",
    "version": 3
   },
   "file_extension": ".py",
   "mimetype": "text/x-python",
   "name": "python",
   "nbconvert_exporter": "python",
   "pygments_lexer": "ipython3",
   "version": "3.5.3"
  }
 },
 "nbformat": 4,
 "nbformat_minor": 0
}
