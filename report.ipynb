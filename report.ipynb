{
 "cells": [
  {
   "cell_type": "code",
   "execution_count": 1,
   "metadata": {
    "collapsed": false
   },
   "outputs": [],
   "source": [
    "%matplotlib inline\n",
    "import pandas\n",
    "import datetime\n",
    "import matplotlib.pyplot as plt\n",
    "import numpy as np\n",
    "from pylab import rcParams\n",
    "import math\n",
    "from geopy.distance import vincenty"
   ]
  },
  {
   "cell_type": "code",
   "execution_count": 2,
   "metadata": {
    "collapsed": false
   },
   "outputs": [],
   "source": [
    "data = pandas.read_csv(r\"tramwaje.csv\",\n",
    "\t\t\t\t\t   dtype = {'Status': str, 'FirstLine': int,  'Lines': str,\n",
    "\t\t\t\t\t\t\t\t'Lon': float, 'Lat': float, 'Time': datetime.datetime, 'LowFloor': bool, 'Brigade': str},\n",
    "                      parse_dates = ['Time'])"
   ]
  },
  {
   "cell_type": "code",
   "execution_count": 3,
   "metadata": {
    "collapsed": false
   },
   "outputs": [
    {
     "data": {
      "text/html": [
       "<div>\n",
       "<table border=\"1\" class=\"dataframe\">\n",
       "  <thead>\n",
       "    <tr style=\"text-align: right;\">\n",
       "      <th></th>\n",
       "      <th>Status</th>\n",
       "      <th>FirstLine</th>\n",
       "      <th>Lon</th>\n",
       "      <th>Lines</th>\n",
       "      <th>Time</th>\n",
       "      <th>Lat</th>\n",
       "      <th>LowFloor</th>\n",
       "      <th>Brigade</th>\n",
       "    </tr>\n",
       "  </thead>\n",
       "  <tbody>\n",
       "    <tr>\n",
       "      <th>0</th>\n",
       "      <td>RUNNING</td>\n",
       "      <td>25</td>\n",
       "      <td>21.034733</td>\n",
       "      <td>25</td>\n",
       "      <td>2017-05-21 15:38:04</td>\n",
       "      <td>52.258099</td>\n",
       "      <td>True</td>\n",
       "      <td>5</td>\n",
       "    </tr>\n",
       "    <tr>\n",
       "      <th>1</th>\n",
       "      <td>RUNNING</td>\n",
       "      <td>20</td>\n",
       "      <td>20.897888</td>\n",
       "      <td>20</td>\n",
       "      <td>2017-05-21 15:38:00</td>\n",
       "      <td>52.260101</td>\n",
       "      <td>True</td>\n",
       "      <td>6</td>\n",
       "    </tr>\n",
       "    <tr>\n",
       "      <th>2</th>\n",
       "      <td>RUNNING</td>\n",
       "      <td>4</td>\n",
       "      <td>21.022173</td>\n",
       "      <td>4</td>\n",
       "      <td>2017-05-21 15:38:27</td>\n",
       "      <td>52.207378</td>\n",
       "      <td>True</td>\n",
       "      <td>2</td>\n",
       "    </tr>\n",
       "    <tr>\n",
       "      <th>3</th>\n",
       "      <td>RUNNING</td>\n",
       "      <td>17</td>\n",
       "      <td>20.997881</td>\n",
       "      <td>17,18</td>\n",
       "      <td>2017-05-21 15:38:00</td>\n",
       "      <td>52.254669</td>\n",
       "      <td>True</td>\n",
       "      <td>5</td>\n",
       "    </tr>\n",
       "    <tr>\n",
       "      <th>4</th>\n",
       "      <td>RUNNING</td>\n",
       "      <td>25</td>\n",
       "      <td>20.993887</td>\n",
       "      <td>25</td>\n",
       "      <td>2017-05-21 15:38:08</td>\n",
       "      <td>52.226051</td>\n",
       "      <td>True</td>\n",
       "      <td>1</td>\n",
       "    </tr>\n",
       "    <tr>\n",
       "      <th>5</th>\n",
       "      <td>RUNNING</td>\n",
       "      <td>28</td>\n",
       "      <td>21.028883</td>\n",
       "      <td>28</td>\n",
       "      <td>2017-05-21 15:38:30</td>\n",
       "      <td>52.256512</td>\n",
       "      <td>True</td>\n",
       "      <td>6</td>\n",
       "    </tr>\n",
       "    <tr>\n",
       "      <th>6</th>\n",
       "      <td>RUNNING</td>\n",
       "      <td>9</td>\n",
       "      <td>20.946791</td>\n",
       "      <td>9</td>\n",
       "      <td>2017-05-21 15:38:30</td>\n",
       "      <td>52.178928</td>\n",
       "      <td>True</td>\n",
       "      <td>38</td>\n",
       "    </tr>\n",
       "    <tr>\n",
       "      <th>7</th>\n",
       "      <td>RUNNING</td>\n",
       "      <td>22</td>\n",
       "      <td>20.962631</td>\n",
       "      <td>22</td>\n",
       "      <td>2017-05-21 15:38:30</td>\n",
       "      <td>52.266991</td>\n",
       "      <td>True</td>\n",
       "      <td>7</td>\n",
       "    </tr>\n",
       "    <tr>\n",
       "      <th>8</th>\n",
       "      <td>RUNNING</td>\n",
       "      <td>9</td>\n",
       "      <td>21.039267</td>\n",
       "      <td>9</td>\n",
       "      <td>2017-05-21 15:38:10</td>\n",
       "      <td>52.235615</td>\n",
       "      <td>True</td>\n",
       "      <td>32</td>\n",
       "    </tr>\n",
       "    <tr>\n",
       "      <th>9</th>\n",
       "      <td>RUNNING</td>\n",
       "      <td>15</td>\n",
       "      <td>20.980597</td>\n",
       "      <td>15</td>\n",
       "      <td>2017-05-21 15:38:27</td>\n",
       "      <td>52.275333</td>\n",
       "      <td>True</td>\n",
       "      <td>4</td>\n",
       "    </tr>\n",
       "    <tr>\n",
       "      <th>10</th>\n",
       "      <td>RUNNING</td>\n",
       "      <td>9</td>\n",
       "      <td>21.084513</td>\n",
       "      <td>9</td>\n",
       "      <td>2017-05-21 15:38:30</td>\n",
       "      <td>52.244663</td>\n",
       "      <td>True</td>\n",
       "      <td>34</td>\n",
       "    </tr>\n",
       "    <tr>\n",
       "      <th>11</th>\n",
       "      <td>RUNNING</td>\n",
       "      <td>33</td>\n",
       "      <td>20.929880</td>\n",
       "      <td>33</td>\n",
       "      <td>2017-05-21 15:38:27</td>\n",
       "      <td>52.291809</td>\n",
       "      <td>True</td>\n",
       "      <td>9</td>\n",
       "    </tr>\n",
       "    <tr>\n",
       "      <th>12</th>\n",
       "      <td>RUNNING</td>\n",
       "      <td>15</td>\n",
       "      <td>20.990450</td>\n",
       "      <td>15</td>\n",
       "      <td>2017-05-21 15:38:00</td>\n",
       "      <td>52.219227</td>\n",
       "      <td>True</td>\n",
       "      <td>2</td>\n",
       "    </tr>\n",
       "    <tr>\n",
       "      <th>13</th>\n",
       "      <td>RUNNING</td>\n",
       "      <td>35</td>\n",
       "      <td>21.022030</td>\n",
       "      <td>35</td>\n",
       "      <td>2017-05-21 15:38:03</td>\n",
       "      <td>52.179546</td>\n",
       "      <td>True</td>\n",
       "      <td>5</td>\n",
       "    </tr>\n",
       "    <tr>\n",
       "      <th>14</th>\n",
       "      <td>RUNNING</td>\n",
       "      <td>10</td>\n",
       "      <td>20.900984</td>\n",
       "      <td>10</td>\n",
       "      <td>2017-05-21 15:38:23</td>\n",
       "      <td>52.238625</td>\n",
       "      <td>True</td>\n",
       "      <td>10</td>\n",
       "    </tr>\n",
       "  </tbody>\n",
       "</table>\n",
       "</div>"
      ],
      "text/plain": [
       "     Status  FirstLine        Lon            Lines                Time  \\\n",
       "0   RUNNING         25  21.034733  25              2017-05-21 15:38:04   \n",
       "1   RUNNING         20  20.897888  20              2017-05-21 15:38:00   \n",
       "2   RUNNING          4  21.022173  4               2017-05-21 15:38:27   \n",
       "3   RUNNING         17  20.997881  17,18           2017-05-21 15:38:00   \n",
       "4   RUNNING         25  20.993887  25              2017-05-21 15:38:08   \n",
       "5   RUNNING         28  21.028883  28              2017-05-21 15:38:30   \n",
       "6   RUNNING          9  20.946791  9               2017-05-21 15:38:30   \n",
       "7   RUNNING         22  20.962631  22              2017-05-21 15:38:30   \n",
       "8   RUNNING          9  21.039267  9               2017-05-21 15:38:10   \n",
       "9   RUNNING         15  20.980597  15              2017-05-21 15:38:27   \n",
       "10  RUNNING          9  21.084513  9               2017-05-21 15:38:30   \n",
       "11  RUNNING         33  20.929880  33              2017-05-21 15:38:27   \n",
       "12  RUNNING         15  20.990450  15              2017-05-21 15:38:00   \n",
       "13  RUNNING         35  21.022030  35              2017-05-21 15:38:03   \n",
       "14  RUNNING         10  20.900984  10              2017-05-21 15:38:23   \n",
       "\n",
       "          Lat LowFloor Brigade  \n",
       "0   52.258099     True    5     \n",
       "1   52.260101     True    6     \n",
       "2   52.207378     True    2     \n",
       "3   52.254669     True    5     \n",
       "4   52.226051     True    1     \n",
       "5   52.256512     True    6     \n",
       "6   52.178928     True    38    \n",
       "7   52.266991     True    7     \n",
       "8   52.235615     True    32    \n",
       "9   52.275333     True    4     \n",
       "10  52.244663     True    34    \n",
       "11  52.291809     True    9     \n",
       "12  52.219227     True    2     \n",
       "13  52.179546     True    5     \n",
       "14  52.238625     True    10    "
      ]
     },
     "execution_count": 3,
     "metadata": {},
     "output_type": "execute_result"
    }
   ],
   "source": [
    "data.head(15)"
   ]
  },
  {
   "cell_type": "code",
   "execution_count": 4,
   "metadata": {
    "collapsed": false
   },
   "outputs": [
    {
     "data": {
      "text/html": [
       "<div>\n",
       "<table border=\"1\" class=\"dataframe\">\n",
       "  <thead>\n",
       "    <tr style=\"text-align: right;\">\n",
       "      <th></th>\n",
       "      <th>Status</th>\n",
       "      <th>FirstLine</th>\n",
       "      <th>Lon</th>\n",
       "      <th>Lines</th>\n",
       "      <th>Time</th>\n",
       "      <th>Lat</th>\n",
       "      <th>LowFloor</th>\n",
       "      <th>Brigade</th>\n",
       "    </tr>\n",
       "  </thead>\n",
       "  <tbody>\n",
       "    <tr>\n",
       "      <th>3086653</th>\n",
       "      <td>RUNNING</td>\n",
       "      <td>3</td>\n",
       "      <td>21.044020</td>\n",
       "      <td>3</td>\n",
       "      <td>2017-05-27 13:43:32</td>\n",
       "      <td>52.248993</td>\n",
       "      <td>True</td>\n",
       "      <td>4</td>\n",
       "    </tr>\n",
       "    <tr>\n",
       "      <th>3086654</th>\n",
       "      <td>RUNNING</td>\n",
       "      <td>26</td>\n",
       "      <td>20.916243</td>\n",
       "      <td>26</td>\n",
       "      <td>2017-05-27 13:43:33</td>\n",
       "      <td>52.225891</td>\n",
       "      <td>True</td>\n",
       "      <td>5</td>\n",
       "    </tr>\n",
       "    <tr>\n",
       "      <th>3086655</th>\n",
       "      <td>RUNNING</td>\n",
       "      <td>3</td>\n",
       "      <td>21.118853</td>\n",
       "      <td>3</td>\n",
       "      <td>2017-05-27 13:43:04</td>\n",
       "      <td>52.238129</td>\n",
       "      <td>True</td>\n",
       "      <td>2</td>\n",
       "    </tr>\n",
       "    <tr>\n",
       "      <th>3086656</th>\n",
       "      <td>RUNNING</td>\n",
       "      <td>3</td>\n",
       "      <td>21.024530</td>\n",
       "      <td>3</td>\n",
       "      <td>2017-05-27 13:43:31</td>\n",
       "      <td>52.296951</td>\n",
       "      <td>True</td>\n",
       "      <td>7</td>\n",
       "    </tr>\n",
       "    <tr>\n",
       "      <th>3086657</th>\n",
       "      <td>RUNNING</td>\n",
       "      <td>3</td>\n",
       "      <td>21.038547</td>\n",
       "      <td>3</td>\n",
       "      <td>2017-05-27 13:43:09</td>\n",
       "      <td>52.264545</td>\n",
       "      <td>True</td>\n",
       "      <td>8</td>\n",
       "    </tr>\n",
       "    <tr>\n",
       "      <th>3086658</th>\n",
       "      <td>RUNNING</td>\n",
       "      <td>9</td>\n",
       "      <td>21.012318</td>\n",
       "      <td>9</td>\n",
       "      <td>2017-05-27 13:43:31</td>\n",
       "      <td>52.229969</td>\n",
       "      <td>True</td>\n",
       "      <td>32</td>\n",
       "    </tr>\n",
       "    <tr>\n",
       "      <th>3086659</th>\n",
       "      <td>RUNNING</td>\n",
       "      <td>9</td>\n",
       "      <td>20.943748</td>\n",
       "      <td>9</td>\n",
       "      <td>2017-05-27 13:43:29</td>\n",
       "      <td>52.175838</td>\n",
       "      <td>True</td>\n",
       "      <td>8</td>\n",
       "    </tr>\n",
       "    <tr>\n",
       "      <th>3086660</th>\n",
       "      <td>RUNNING</td>\n",
       "      <td>7</td>\n",
       "      <td>20.943928</td>\n",
       "      <td>7</td>\n",
       "      <td>2017-05-27 13:43:04</td>\n",
       "      <td>52.175953</td>\n",
       "      <td>True</td>\n",
       "      <td>7</td>\n",
       "    </tr>\n",
       "    <tr>\n",
       "      <th>3086661</th>\n",
       "      <td>RUNNING</td>\n",
       "      <td>22</td>\n",
       "      <td>20.981201</td>\n",
       "      <td>22</td>\n",
       "      <td>2017-05-27 13:43:22</td>\n",
       "      <td>52.252972</td>\n",
       "      <td>True</td>\n",
       "      <td>9</td>\n",
       "    </tr>\n",
       "    <tr>\n",
       "      <th>3086662</th>\n",
       "      <td>RUNNING</td>\n",
       "      <td>22</td>\n",
       "      <td>20.945314</td>\n",
       "      <td>22</td>\n",
       "      <td>2017-05-27 13:43:33</td>\n",
       "      <td>52.271637</td>\n",
       "      <td>True</td>\n",
       "      <td>8</td>\n",
       "    </tr>\n",
       "    <tr>\n",
       "      <th>3086663</th>\n",
       "      <td>RUNNING</td>\n",
       "      <td>22</td>\n",
       "      <td>21.058525</td>\n",
       "      <td>22</td>\n",
       "      <td>2017-05-27 13:43:33</td>\n",
       "      <td>52.246906</td>\n",
       "      <td>True</td>\n",
       "      <td>2</td>\n",
       "    </tr>\n",
       "    <tr>\n",
       "      <th>3086664</th>\n",
       "      <td>RUNNING</td>\n",
       "      <td>22</td>\n",
       "      <td>21.002569</td>\n",
       "      <td>22</td>\n",
       "      <td>2017-05-27 13:43:34</td>\n",
       "      <td>52.227871</td>\n",
       "      <td>True</td>\n",
       "      <td>1</td>\n",
       "    </tr>\n",
       "    <tr>\n",
       "      <th>3086665</th>\n",
       "      <td>RUNNING</td>\n",
       "      <td>15</td>\n",
       "      <td>20.984354</td>\n",
       "      <td>15</td>\n",
       "      <td>2017-05-27 13:43:33</td>\n",
       "      <td>52.218391</td>\n",
       "      <td>True</td>\n",
       "      <td>9</td>\n",
       "    </tr>\n",
       "    <tr>\n",
       "      <th>3086666</th>\n",
       "      <td>RUNNING</td>\n",
       "      <td>10</td>\n",
       "      <td>20.969122</td>\n",
       "      <td>10</td>\n",
       "      <td>2017-05-27 13:43:33</td>\n",
       "      <td>52.231193</td>\n",
       "      <td>True</td>\n",
       "      <td>4</td>\n",
       "    </tr>\n",
       "    <tr>\n",
       "      <th>3086667</th>\n",
       "      <td>RUNNING</td>\n",
       "      <td>18</td>\n",
       "      <td>21.021503</td>\n",
       "      <td>18,17</td>\n",
       "      <td>2017-05-27 13:43:29</td>\n",
       "      <td>52.209049</td>\n",
       "      <td>True</td>\n",
       "      <td>14</td>\n",
       "    </tr>\n",
       "  </tbody>\n",
       "</table>\n",
       "</div>"
      ],
      "text/plain": [
       "          Status  FirstLine        Lon            Lines                Time  \\\n",
       "3086653  RUNNING          3  21.044020  3               2017-05-27 13:43:32   \n",
       "3086654  RUNNING         26  20.916243  26              2017-05-27 13:43:33   \n",
       "3086655  RUNNING          3  21.118853  3               2017-05-27 13:43:04   \n",
       "3086656  RUNNING          3  21.024530  3               2017-05-27 13:43:31   \n",
       "3086657  RUNNING          3  21.038547  3               2017-05-27 13:43:09   \n",
       "3086658  RUNNING          9  21.012318  9               2017-05-27 13:43:31   \n",
       "3086659  RUNNING          9  20.943748  9               2017-05-27 13:43:29   \n",
       "3086660  RUNNING          7  20.943928  7               2017-05-27 13:43:04   \n",
       "3086661  RUNNING         22  20.981201  22              2017-05-27 13:43:22   \n",
       "3086662  RUNNING         22  20.945314  22              2017-05-27 13:43:33   \n",
       "3086663  RUNNING         22  21.058525  22              2017-05-27 13:43:33   \n",
       "3086664  RUNNING         22  21.002569  22              2017-05-27 13:43:34   \n",
       "3086665  RUNNING         15  20.984354  15              2017-05-27 13:43:33   \n",
       "3086666  RUNNING         10  20.969122  10              2017-05-27 13:43:33   \n",
       "3086667  RUNNING         18  21.021503  18,17           2017-05-27 13:43:29   \n",
       "\n",
       "               Lat LowFloor Brigade  \n",
       "3086653  52.248993     True    4     \n",
       "3086654  52.225891     True    5     \n",
       "3086655  52.238129     True    2     \n",
       "3086656  52.296951     True    7     \n",
       "3086657  52.264545     True    8     \n",
       "3086658  52.229969     True    32    \n",
       "3086659  52.175838     True    8     \n",
       "3086660  52.175953     True    7     \n",
       "3086661  52.252972     True    9     \n",
       "3086662  52.271637     True    8     \n",
       "3086663  52.246906     True    2     \n",
       "3086664  52.227871     True    1     \n",
       "3086665  52.218391     True    9     \n",
       "3086666  52.231193     True    4     \n",
       "3086667  52.209049     True    14    "
      ]
     },
     "execution_count": 4,
     "metadata": {},
     "output_type": "execute_result"
    }
   ],
   "source": [
    "data.tail(15)"
   ]
  },
  {
   "cell_type": "markdown",
   "metadata": {},
   "source": [
    "### Status"
   ]
  },
  {
   "cell_type": "code",
   "execution_count": 5,
   "metadata": {
    "collapsed": false
   },
   "outputs": [
    {
     "data": {
      "text/plain": [
       "0"
      ]
     },
     "execution_count": 5,
     "metadata": {},
     "output_type": "execute_result"
    }
   ],
   "source": [
    "len(data[data['Status'] != 'RUNNING'])"
   ]
  },
  {
   "cell_type": "markdown",
   "metadata": {},
   "source": [
    "Kolumna Status przyjmuje tylko jedną wartość, więc można się jej pozbyć."
   ]
  },
  {
   "cell_type": "code",
   "execution_count": 6,
   "metadata": {
    "collapsed": true
   },
   "outputs": [],
   "source": [
    "data = data.drop('Status', 1)"
   ]
  },
  {
   "cell_type": "markdown",
   "metadata": {},
   "source": [
    "### FirstLine"
   ]
  },
  {
   "cell_type": "code",
   "execution_count": 7,
   "metadata": {
    "collapsed": false
   },
   "outputs": [
    {
     "data": {
      "text/plain": [
       "FirstLine\n",
       "1     162787\n",
       "2      84091\n",
       "3     106001\n",
       "4     126472\n",
       "6     125666\n",
       "7     109804\n",
       "9     273449\n",
       "10    138745\n",
       "11    109677\n",
       "13     83462\n",
       "14     69135\n",
       "15    127592\n",
       "17    138964\n",
       "18     67736\n",
       "20    108955\n",
       "22    133579\n",
       "23    103876\n",
       "24    149381\n",
       "25    113673\n",
       "26    144376\n",
       "27     62003\n",
       "28    111483\n",
       "31     62368\n",
       "33    181230\n",
       "35    147967\n",
       "44     44196\n",
       "dtype: int64"
      ]
     },
     "execution_count": 7,
     "metadata": {},
     "output_type": "execute_result"
    }
   ],
   "source": [
    "data.groupby('FirstLine', sort=True).size()"
   ]
  },
  {
   "cell_type": "markdown",
   "metadata": {},
   "source": [
    "* Po porównaniu zebranych danych z rozkładem jazdy okazało się, że istnieją dane dla wszystkich funkcjonujących obecnie tramwajów poza linią 77 (linia uzupełniająca).\n",
    "\n",
    "* Najmniej obserwacji znaleziono dla linii 44 - jest to linia okresowa, co oznacza, że kursuje tylko w dni nauki szkolnej i tylko w określonych porach (5-9 i 14-18).\n",
    "\n",
    "* Najwięcej obserwacji znaleziono dla linii 9 - jeździ ona bardzo często (w godzinach 8-19 nawet co kilka minut) i kursuje prawie przez całą dobę (zaczyna o 4.10, a kończy o 1.20)"
   ]
  },
  {
   "cell_type": "markdown",
   "metadata": {},
   "source": [
    "### Lat i Lon"
   ]
  },
  {
   "cell_type": "markdown",
   "metadata": {},
   "source": [
    "#### Usunięcie danych spoza Warszawy"
   ]
  },
  {
   "cell_type": "code",
   "execution_count": 8,
   "metadata": {
    "collapsed": true,
    "scrolled": true
   },
   "outputs": [],
   "source": [
    "minLat = 52.09\n",
    "maxLat = 52.36\n",
    "minLon = 20.85\n",
    "maxLon = 21.27"
   ]
  },
  {
   "cell_type": "code",
   "execution_count": 9,
   "metadata": {
    "collapsed": true
   },
   "outputs": [],
   "source": [
    "oldLen = len(data)"
   ]
  },
  {
   "cell_type": "code",
   "execution_count": 10,
   "metadata": {
    "collapsed": false
   },
   "outputs": [],
   "source": [
    "data = data[(data['Lat'] < maxLat) & (minLat < data['Lat']) & (data['Lon'] < maxLon) & (minLon < data['Lon'])]"
   ]
  },
  {
   "cell_type": "code",
   "execution_count": 11,
   "metadata": {
    "collapsed": false
   },
   "outputs": [
    {
     "data": {
      "text/plain": [
       "0.9989357456001099"
      ]
     },
     "execution_count": 11,
     "metadata": {},
     "output_type": "execute_result"
    }
   ],
   "source": [
    "len(data) / oldLen"
   ]
  },
  {
   "cell_type": "markdown",
   "metadata": {},
   "source": [
    "Istnieją dane, dla których współrzędne geograficzne były nieprawidłowe (poza granicami Warszawy), jednak było to zaledwie 0.1% danych."
   ]
  },
  {
   "cell_type": "markdown",
   "metadata": {},
   "source": [
    "#### Obliczenie prędkości"
   ]
  },
  {
   "cell_type": "code",
   "execution_count": 12,
   "metadata": {
    "collapsed": false
   },
   "outputs": [],
   "source": [
    "n = len(data)\n",
    "maxDist = 0.05\n",
    "data = data.drop_duplicates(subset=['FirstLine', 'Brigade', 'Time']).sort_values('Time')\n",
    "data['TimeDiff'] = data.groupby(['FirstLine', 'Brigade'])['Time'].diff()\n",
    "data['PrevLon'] = data.groupby(['FirstLine', 'Brigade'])['Lon'].shift()\n",
    "data['PrevLat'] = data.groupby(['FirstLine', 'Brigade'])['Lat'].shift()"
   ]
  },
  {
   "cell_type": "code",
   "execution_count": 13,
   "metadata": {
    "collapsed": false
   },
   "outputs": [],
   "source": [
    "def dist(x1, y1, x2, y2):\n",
    "    if any(pandas.isnull([x1, y1, x2, y2])):\n",
    "        return 0\n",
    "    obj1 = (x1, y1)\n",
    "    obj2 = (x2, y2)\n",
    "    return vincenty(obj1, obj2).meters\n",
    "data['Velocity'] = data.apply(lambda x: \n",
    "                            dist(x['Lon'], x['Lat'], x['PrevLon'], x['PrevLat']) / (x['TimeDiff'].seconds if pandas.notnull(x['TimeDiff'] and x['TimeDiff']) else 1),\n",
    "                            axis=1)\n",
    "data = data.dropna(how='all')"
   ]
  },
  {
   "cell_type": "code",
   "execution_count": 14,
   "metadata": {
    "collapsed": false
   },
   "outputs": [
    {
     "name": "stdout",
     "output_type": "stream",
     "text": [
      "21.032127399999997\n",
      "20.9726086\n",
      "20.917579699999997\n",
      "20.978851300000002\n",
      "21.002243\n",
      "20.977897600000002\n",
      "21.0159645\n",
      "21.0245342\n",
      "21.0170841\n",
      "21.033351899999996\n",
      "20.9745064\n",
      "21.018997199999998\n",
      "20.96175\n",
      "21.000625600000003\n",
      "20.979126\n"
     ]
    },
    {
     "data": {
      "text/plain": [
       "168    None\n",
       "157    None\n",
       "161    None\n",
       "170    None\n",
       "49     None\n",
       "173    None\n",
       "62     None\n",
       "34     None\n",
       "166    None\n",
       "42     None\n",
       "89     None\n",
       "91     None\n",
       "94     None\n",
       "17     None\n",
       "36     None\n",
       "dtype: object"
      ]
     },
     "execution_count": 14,
     "metadata": {},
     "output_type": "execute_result"
    }
   ],
   "source": [
    "data.head(15).apply(lambda x: print(x['Lon']), axis=1)"
   ]
  },
  {
   "cell_type": "markdown",
   "metadata": {},
   "source": [
    "### Time"
   ]
  },
  {
   "cell_type": "code",
   "execution_count": 15,
   "metadata": {
    "collapsed": false,
    "scrolled": true
   },
   "outputs": [],
   "source": [
    "data['Day'] = data['Time'].map(lambda x: x.day)"
   ]
  },
  {
   "cell_type": "code",
   "execution_count": 16,
   "metadata": {
    "collapsed": false
   },
   "outputs": [
    {
     "data": {
      "text/plain": [
       "Day\n",
       "21    114619\n",
       "22    342762\n",
       "23    461439\n",
       "24    497826\n",
       "25    457770\n",
       "26    478430\n",
       "27    155214\n",
       "dtype: int64"
      ]
     },
     "execution_count": 16,
     "metadata": {},
     "output_type": "execute_result"
    }
   ],
   "source": [
    "data.groupby('Day').size()"
   ]
  },
  {
   "cell_type": "markdown",
   "metadata": {},
   "source": [
    "Pełne dane są dostępne tylko z okresu 23-26 marca."
   ]
  },
  {
   "cell_type": "code",
   "execution_count": 17,
   "metadata": {
    "collapsed": false
   },
   "outputs": [],
   "source": [
    "startTime = datetime.datetime(year=2017, month=5, day=24, hour=2)\n",
    "endTime = datetime.datetime(year=2017, month=5, day=25, hour=3)\n",
    "dataOneDay = data[(data['Time'] > startTime) & (data['Time'] < endTime)]"
   ]
  },
  {
   "cell_type": "code",
   "execution_count": 18,
   "metadata": {
    "collapsed": false
   },
   "outputs": [
    {
     "data": {
      "image/png": "[encoded data removed]",
      "text/plain": [
       "<matplotlib.figure.Figure at 0x1b2a062bf60>"
      ]
     },
     "metadata": {},
     "output_type": "display_data"
    }
   ],
   "source": [
    "plt.hist([t.timestamp() for t in dataOneDay['Time']])\n",
    "locs, labels = plt.xticks()\n",
    "plt.xticks(locs,[datetime.datetime.fromtimestamp(t) for t in locs], rotation='vertical')\n",
    "plt.show()"
   ]
  },
  {
   "cell_type": "markdown",
   "metadata": {
    "collapsed": true
   },
   "source": [
    "### Brigade"
   ]
  },
  {
   "cell_type": "code",
   "execution_count": 19,
   "metadata": {
    "collapsed": false
   },
   "outputs": [
    {
     "data": {
      "text/plain": [
       "Brigade\n",
       "01        1998\n",
       "010      20742\n",
       "011      24746\n",
       "012      29091\n",
       "013      40745\n",
       "014      44790\n",
       "015      55302\n",
       "016      38366\n",
       "017      26913\n",
       "018      22056\n",
       "019      14975\n",
       "02        3541\n",
       "020      21639\n",
       "021      11166\n",
       "022      12728\n",
       "023      10934\n",
       "024       8064\n",
       "025       4698\n",
       "026       3753\n",
       "027       9080\n",
       "028       1337\n",
       "029       3940\n",
       "03        4067\n",
       "030       1408\n",
       "031       3576\n",
       "04        2102\n",
       "041       3234\n",
       "042       3322\n",
       "043       1036\n",
       "05        2488\n",
       "         ...  \n",
       "12       79225\n",
       "13       38893\n",
       "14       39274\n",
       "15       18209\n",
       "16        9236\n",
       "17       13859\n",
       "18       14508\n",
       "19       14724\n",
       "2       173572\n",
       "20        4412\n",
       "21        2466\n",
       "3       175927\n",
       "31        8951\n",
       "32       15797\n",
       "33       15334\n",
       "34       18116\n",
       "35       13048\n",
       "36       14472\n",
       "37       11391\n",
       "38       11822\n",
       "39       12222\n",
       "4       174531\n",
       "40       11165\n",
       "5       160074\n",
       "6       167320\n",
       "7       155847\n",
       "8       154896\n",
       "9       140013\n",
       "D31        422\n",
       "D32        286\n",
       "dtype: int64"
      ]
     },
     "execution_count": 19,
     "metadata": {},
     "output_type": "execute_result"
    }
   ],
   "source": [
    "data.groupby('Brigade').size()"
   ]
  },
  {
   "cell_type": "markdown",
   "metadata": {},
   "source": [
    "### LowFloor"
   ]
  },
  {
   "cell_type": "code",
   "execution_count": 20,
   "metadata": {
    "collapsed": false
   },
   "outputs": [
    {
     "name": "stderr",
     "output_type": "stream",
     "text": [
      "D:\\Programs\\Anaconda\\lib\\site-packages\\ipykernel\\__main__.py:2: SettingWithCopyWarning: \n",
      "A value is trying to be set on a copy of a slice from a DataFrame.\n",
      "Try using .loc[row_indexer,col_indexer] = value instead\n",
      "\n",
      "See the caveats in the documentation: http://pandas.pydata.org/pandas-docs/stable/indexing.html#indexing-view-versus-copy\n",
      "  from ipykernel import kernelapp as app\n"
     ]
    }
   ],
   "source": [
    "dataRoundedTime = dataOneDay\n",
    "dataRoundedTime['Time'] = [t - datetime.timedelta(seconds=t.second, microseconds=t.microsecond) for t in dataOneDay['Time']]"
   ]
  },
  {
   "cell_type": "code",
   "execution_count": 21,
   "metadata": {
    "collapsed": false
   },
   "outputs": [
    {
     "data": {
      "text/plain": [
       "([<matplotlib.axis.XTick at 0x1b2adadb978>,\n",
       "  <matplotlib.axis.XTick at 0x1b2815de4e0>,\n",
       "  <matplotlib.axis.XTick at 0x1b2ac8e9470>,\n",
       "  <matplotlib.axis.XTick at 0x1b281374d68>,\n",
       "  <matplotlib.axis.XTick at 0x1b281382780>,\n",
       "  <matplotlib.axis.XTick at 0x1b281382e10>,\n",
       "  <matplotlib.axis.XTick at 0x1b281388828>,\n",
       "  <matplotlib.axis.XTick at 0x1b281391240>],\n",
       " <a list of 8 Text xticklabel objects>)"
      ]
     },
     "execution_count": 21,
     "metadata": {},
     "output_type": "execute_result"
    },
    {
     "data": {
      "image/png": "[encoded data removed]",
      "text/plain": [
       "<matplotlib.figure.Figure at 0x1b281577d68>"
      ]
     },
     "metadata": {},
     "output_type": "display_data"
    }
   ],
   "source": [
    "rcParams['figure.figsize'] = 15, 10\n",
    "dataLowFloor = dataRoundedTime[dataRoundedTime['LowFloor']].groupby('Time').size()\n",
    "fig, ax = plt.subplots()\n",
    "ax.plot(dataLowFloor, label=\"niskopodłogowe\")\n",
    "dataHighFloor = dataRoundedTime[~dataRoundedTime['LowFloor']].groupby('Time').size()\n",
    "ax.plot(dataHighFloor, label=\"wysokopodłogowe\")\n",
    "legend = ax.legend(loc='upper right')\n",
    "locs, labels = plt.xticks()\n",
    "plt.xticks(locs, rotation='vertical')"
   ]
  },
  {
   "cell_type": "code",
   "execution_count": 22,
   "metadata": {
    "collapsed": false
   },
   "outputs": [],
   "source": [
    "#data.groupby('FirstLine').agg(lambda x: )"
   ]
  },
  {
   "cell_type": "code",
   "execution_count": 1,
   "metadata": {
    "collapsed": false
   },
   "outputs": [],
   "source": [
    "import Mapper.mapper as mp"
   ]
  },
  {
   "cell_type": "code",
   "execution_count": null,
   "metadata": {
    "collapsed": false
   },
   "outputs": [],
   "source": [
    "pm = mp.PlotMap(data, color_colname='Velocity')\n",
    "pm.plot(list(range(100,200)))\n",
    "pm.show()"
   ]
  }
 ],
 "metadata": {
  "kernelspec": {
   "display_name": "Python 3",
   "language": "python",
   "name": "python3"
  },
  "language_info": {
   "codemirror_mode": {
    "name": "ipython",
    "version": 3
   },
   "file_extension": ".py",
   "mimetype": "text/x-python",
   "name": "python",
   "nbconvert_exporter": "python",
   "pygments_lexer": "ipython3",
   "version": "3.6.0"
  }
 },
 "nbformat": 4,
 "nbformat_minor": 0
}
