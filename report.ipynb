{
 "cells": [
  {
   "cell_type": "code",
   "execution_count": 43,
   "metadata": {
    "collapsed": false
   },
   "outputs": [],
   "source": [
    "%matplotlib inline\n",
    "import pandas\n",
    "import datetime\n",
    "import matplotlib.pyplot as plt\n",
    "import numpy as np\n",
    "from pylab import rcParams\n",
    "import math\n",
    "from geopy.distance import vincenty\n",
    "rcParams['figure.figsize'] = 15, 10"
   ]
  },
  {
   "cell_type": "code",
   "execution_count": 44,
   "metadata": {
    "collapsed": false
   },
   "outputs": [],
   "source": [
    "data = pandas.read_csv(r\"D:\\Dokumenty\\School\\PublicTransport\\tramwaje.csv\",\n",
    "\t\t\t\t\t   dtype = {'Status': str, 'FirstLine': int,  'Lines': str,\n",
    "\t\t\t\t\t\t\t\t'Lon': float, 'Lat': float, 'Time': datetime.datetime, 'LowFloor': bool, 'Brigade': str},\n",
    "                      parse_dates = ['Time'])\n",
    "new_data = pandas.read_csv(r\"D:\\Dokumenty\\School\\PublicTransport\\tramwaje_new.csv\",\n",
    "\t\t\t\t\t   dtype = {'Status': str, 'FirstLine': int,  'Lines': str,\n",
    "\t\t\t\t\t\t\t\t'Lon': float, 'Lat': float, 'Time': datetime.datetime, 'LowFloor': bool, 'Brigade': str},\n",
    "                      parse_dates = ['Time'])\n",
    "data = pandas.concat([data, new_data]).reset_index()"
   ]
  },
  {
   "cell_type": "code",
   "execution_count": 45,
   "metadata": {
    "collapsed": false
   },
   "outputs": [
    {
     "data": {
      "text/html": [
       "<div>\n",
       "<table border=\"1\" class=\"dataframe\">\n",
       "  <thead>\n",
       "    <tr style=\"text-align: right;\">\n",
       "      <th></th>\n",
       "      <th>index</th>\n",
       "      <th>Status</th>\n",
       "      <th>FirstLine</th>\n",
       "      <th>Lon</th>\n",
       "      <th>Lines</th>\n",
       "      <th>Time</th>\n",
       "      <th>Lat</th>\n",
       "      <th>LowFloor</th>\n",
       "      <th>Brigade</th>\n",
       "    </tr>\n",
       "  </thead>\n",
       "  <tbody>\n",
       "    <tr>\n",
       "      <th>0</th>\n",
       "      <td>0</td>\n",
       "      <td>RUNNING</td>\n",
       "      <td>25</td>\n",
       "      <td>21.034733</td>\n",
       "      <td>25</td>\n",
       "      <td>2017-05-21 15:38:04</td>\n",
       "      <td>52.258099</td>\n",
       "      <td>True</td>\n",
       "      <td>5</td>\n",
       "    </tr>\n",
       "    <tr>\n",
       "      <th>1</th>\n",
       "      <td>1</td>\n",
       "      <td>RUNNING</td>\n",
       "      <td>20</td>\n",
       "      <td>20.897888</td>\n",
       "      <td>20</td>\n",
       "      <td>2017-05-21 15:38:00</td>\n",
       "      <td>52.260101</td>\n",
       "      <td>True</td>\n",
       "      <td>6</td>\n",
       "    </tr>\n",
       "    <tr>\n",
       "      <th>2</th>\n",
       "      <td>2</td>\n",
       "      <td>RUNNING</td>\n",
       "      <td>4</td>\n",
       "      <td>21.022173</td>\n",
       "      <td>4</td>\n",
       "      <td>2017-05-21 15:38:27</td>\n",
       "      <td>52.207378</td>\n",
       "      <td>True</td>\n",
       "      <td>2</td>\n",
       "    </tr>\n",
       "    <tr>\n",
       "      <th>3</th>\n",
       "      <td>3</td>\n",
       "      <td>RUNNING</td>\n",
       "      <td>17</td>\n",
       "      <td>20.997881</td>\n",
       "      <td>17,18</td>\n",
       "      <td>2017-05-21 15:38:00</td>\n",
       "      <td>52.254669</td>\n",
       "      <td>True</td>\n",
       "      <td>5</td>\n",
       "    </tr>\n",
       "    <tr>\n",
       "      <th>4</th>\n",
       "      <td>4</td>\n",
       "      <td>RUNNING</td>\n",
       "      <td>25</td>\n",
       "      <td>20.993887</td>\n",
       "      <td>25</td>\n",
       "      <td>2017-05-21 15:38:08</td>\n",
       "      <td>52.226051</td>\n",
       "      <td>True</td>\n",
       "      <td>1</td>\n",
       "    </tr>\n",
       "    <tr>\n",
       "      <th>5</th>\n",
       "      <td>5</td>\n",
       "      <td>RUNNING</td>\n",
       "      <td>28</td>\n",
       "      <td>21.028883</td>\n",
       "      <td>28</td>\n",
       "      <td>2017-05-21 15:38:30</td>\n",
       "      <td>52.256512</td>\n",
       "      <td>True</td>\n",
       "      <td>6</td>\n",
       "    </tr>\n",
       "    <tr>\n",
       "      <th>6</th>\n",
       "      <td>6</td>\n",
       "      <td>RUNNING</td>\n",
       "      <td>9</td>\n",
       "      <td>20.946791</td>\n",
       "      <td>9</td>\n",
       "      <td>2017-05-21 15:38:30</td>\n",
       "      <td>52.178928</td>\n",
       "      <td>True</td>\n",
       "      <td>38</td>\n",
       "    </tr>\n",
       "    <tr>\n",
       "      <th>7</th>\n",
       "      <td>7</td>\n",
       "      <td>RUNNING</td>\n",
       "      <td>22</td>\n",
       "      <td>20.962631</td>\n",
       "      <td>22</td>\n",
       "      <td>2017-05-21 15:38:30</td>\n",
       "      <td>52.266991</td>\n",
       "      <td>True</td>\n",
       "      <td>7</td>\n",
       "    </tr>\n",
       "    <tr>\n",
       "      <th>8</th>\n",
       "      <td>8</td>\n",
       "      <td>RUNNING</td>\n",
       "      <td>9</td>\n",
       "      <td>21.039267</td>\n",
       "      <td>9</td>\n",
       "      <td>2017-05-21 15:38:10</td>\n",
       "      <td>52.235615</td>\n",
       "      <td>True</td>\n",
       "      <td>32</td>\n",
       "    </tr>\n",
       "    <tr>\n",
       "      <th>9</th>\n",
       "      <td>9</td>\n",
       "      <td>RUNNING</td>\n",
       "      <td>15</td>\n",
       "      <td>20.980597</td>\n",
       "      <td>15</td>\n",
       "      <td>2017-05-21 15:38:27</td>\n",
       "      <td>52.275333</td>\n",
       "      <td>True</td>\n",
       "      <td>4</td>\n",
       "    </tr>\n",
       "    <tr>\n",
       "      <th>10</th>\n",
       "      <td>10</td>\n",
       "      <td>RUNNING</td>\n",
       "      <td>9</td>\n",
       "      <td>21.084513</td>\n",
       "      <td>9</td>\n",
       "      <td>2017-05-21 15:38:30</td>\n",
       "      <td>52.244663</td>\n",
       "      <td>True</td>\n",
       "      <td>34</td>\n",
       "    </tr>\n",
       "    <tr>\n",
       "      <th>11</th>\n",
       "      <td>11</td>\n",
       "      <td>RUNNING</td>\n",
       "      <td>33</td>\n",
       "      <td>20.929880</td>\n",
       "      <td>33</td>\n",
       "      <td>2017-05-21 15:38:27</td>\n",
       "      <td>52.291809</td>\n",
       "      <td>True</td>\n",
       "      <td>9</td>\n",
       "    </tr>\n",
       "    <tr>\n",
       "      <th>12</th>\n",
       "      <td>12</td>\n",
       "      <td>RUNNING</td>\n",
       "      <td>15</td>\n",
       "      <td>20.990450</td>\n",
       "      <td>15</td>\n",
       "      <td>2017-05-21 15:38:00</td>\n",
       "      <td>52.219227</td>\n",
       "      <td>True</td>\n",
       "      <td>2</td>\n",
       "    </tr>\n",
       "    <tr>\n",
       "      <th>13</th>\n",
       "      <td>13</td>\n",
       "      <td>RUNNING</td>\n",
       "      <td>35</td>\n",
       "      <td>21.022030</td>\n",
       "      <td>35</td>\n",
       "      <td>2017-05-21 15:38:03</td>\n",
       "      <td>52.179546</td>\n",
       "      <td>True</td>\n",
       "      <td>5</td>\n",
       "    </tr>\n",
       "    <tr>\n",
       "      <th>14</th>\n",
       "      <td>14</td>\n",
       "      <td>RUNNING</td>\n",
       "      <td>10</td>\n",
       "      <td>20.900984</td>\n",
       "      <td>10</td>\n",
       "      <td>2017-05-21 15:38:23</td>\n",
       "      <td>52.238625</td>\n",
       "      <td>True</td>\n",
       "      <td>10</td>\n",
       "    </tr>\n",
       "  </tbody>\n",
       "</table>\n",
       "</div>"
      ],
      "text/plain": [
       "    index   Status  FirstLine        Lon            Lines                Time  \\\n",
       "0       0  RUNNING         25  21.034733  25              2017-05-21 15:38:04   \n",
       "1       1  RUNNING         20  20.897888  20              2017-05-21 15:38:00   \n",
       "2       2  RUNNING          4  21.022173  4               2017-05-21 15:38:27   \n",
       "3       3  RUNNING         17  20.997881  17,18           2017-05-21 15:38:00   \n",
       "4       4  RUNNING         25  20.993887  25              2017-05-21 15:38:08   \n",
       "5       5  RUNNING         28  21.028883  28              2017-05-21 15:38:30   \n",
       "6       6  RUNNING          9  20.946791  9               2017-05-21 15:38:30   \n",
       "7       7  RUNNING         22  20.962631  22              2017-05-21 15:38:30   \n",
       "8       8  RUNNING          9  21.039267  9               2017-05-21 15:38:10   \n",
       "9       9  RUNNING         15  20.980597  15              2017-05-21 15:38:27   \n",
       "10     10  RUNNING          9  21.084513  9               2017-05-21 15:38:30   \n",
       "11     11  RUNNING         33  20.929880  33              2017-05-21 15:38:27   \n",
       "12     12  RUNNING         15  20.990450  15              2017-05-21 15:38:00   \n",
       "13     13  RUNNING         35  21.022030  35              2017-05-21 15:38:03   \n",
       "14     14  RUNNING         10  20.900984  10              2017-05-21 15:38:23   \n",
       "\n",
       "          Lat LowFloor Brigade  \n",
       "0   52.258099     True    5     \n",
       "1   52.260101     True    6     \n",
       "2   52.207378     True    2     \n",
       "3   52.254669     True    5     \n",
       "4   52.226051     True    1     \n",
       "5   52.256512     True    6     \n",
       "6   52.178928     True    38    \n",
       "7   52.266991     True    7     \n",
       "8   52.235615     True    32    \n",
       "9   52.275333     True    4     \n",
       "10  52.244663     True    34    \n",
       "11  52.291809     True    9     \n",
       "12  52.219227     True    2     \n",
       "13  52.179546     True    5     \n",
       "14  52.238625     True    10    "
      ]
     },
     "execution_count": 45,
     "metadata": {},
     "output_type": "execute_result"
    }
   ],
   "source": [
    "data.head(15)"
   ]
  },
  {
   "cell_type": "code",
   "execution_count": 46,
   "metadata": {
    "collapsed": false
   },
   "outputs": [
    {
     "data": {
      "text/html": [
       "<div>\n",
       "<table border=\"1\" class=\"dataframe\">\n",
       "  <thead>\n",
       "    <tr style=\"text-align: right;\">\n",
       "      <th></th>\n",
       "      <th>index</th>\n",
       "      <th>Status</th>\n",
       "      <th>FirstLine</th>\n",
       "      <th>Lon</th>\n",
       "      <th>Lines</th>\n",
       "      <th>Time</th>\n",
       "      <th>Lat</th>\n",
       "      <th>LowFloor</th>\n",
       "      <th>Brigade</th>\n",
       "    </tr>\n",
       "  </thead>\n",
       "  <tbody>\n",
       "    <tr>\n",
       "      <th>5297057</th>\n",
       "      <td>2210389</td>\n",
       "      <td>RUNNING</td>\n",
       "      <td>1</td>\n",
       "      <td>20.981314</td>\n",
       "      <td>1</td>\n",
       "      <td>2017-05-31 22:07:21</td>\n",
       "      <td>52.216549</td>\n",
       "      <td>True</td>\n",
       "      <td>7</td>\n",
       "    </tr>\n",
       "    <tr>\n",
       "      <th>5297058</th>\n",
       "      <td>2210390</td>\n",
       "      <td>RUNNING</td>\n",
       "      <td>1</td>\n",
       "      <td>20.985210</td>\n",
       "      <td>1</td>\n",
       "      <td>2017-05-31 22:07:26</td>\n",
       "      <td>52.255539</td>\n",
       "      <td>True</td>\n",
       "      <td>11</td>\n",
       "    </tr>\n",
       "    <tr>\n",
       "      <th>5297059</th>\n",
       "      <td>2210391</td>\n",
       "      <td>RUNNING</td>\n",
       "      <td>10</td>\n",
       "      <td>21.004740</td>\n",
       "      <td>10</td>\n",
       "      <td>2017-05-31 22:07:26</td>\n",
       "      <td>52.222828</td>\n",
       "      <td>True</td>\n",
       "      <td>14</td>\n",
       "    </tr>\n",
       "    <tr>\n",
       "      <th>5297060</th>\n",
       "      <td>2210392</td>\n",
       "      <td>RUNNING</td>\n",
       "      <td>35</td>\n",
       "      <td>20.924740</td>\n",
       "      <td>35</td>\n",
       "      <td>2017-05-31 22:07:28</td>\n",
       "      <td>52.260246</td>\n",
       "      <td>True</td>\n",
       "      <td>13</td>\n",
       "    </tr>\n",
       "    <tr>\n",
       "      <th>5297061</th>\n",
       "      <td>2210393</td>\n",
       "      <td>RUNNING</td>\n",
       "      <td>33</td>\n",
       "      <td>20.934177</td>\n",
       "      <td>33</td>\n",
       "      <td>2017-05-31 22:07:19</td>\n",
       "      <td>52.278076</td>\n",
       "      <td>True</td>\n",
       "      <td>19</td>\n",
       "    </tr>\n",
       "    <tr>\n",
       "      <th>5297062</th>\n",
       "      <td>2210394</td>\n",
       "      <td>RUNNING</td>\n",
       "      <td>17</td>\n",
       "      <td>20.996681</td>\n",
       "      <td>17</td>\n",
       "      <td>2017-05-31 22:07:29</td>\n",
       "      <td>52.236748</td>\n",
       "      <td>True</td>\n",
       "      <td>33</td>\n",
       "    </tr>\n",
       "    <tr>\n",
       "      <th>5297063</th>\n",
       "      <td>2210395</td>\n",
       "      <td>RUNNING</td>\n",
       "      <td>20</td>\n",
       "      <td>21.012001</td>\n",
       "      <td>20</td>\n",
       "      <td>2017-05-31 22:07:27</td>\n",
       "      <td>52.277702</td>\n",
       "      <td>True</td>\n",
       "      <td>015</td>\n",
       "    </tr>\n",
       "    <tr>\n",
       "      <th>5297064</th>\n",
       "      <td>2210396</td>\n",
       "      <td>RUNNING</td>\n",
       "      <td>9</td>\n",
       "      <td>21.050053</td>\n",
       "      <td>9</td>\n",
       "      <td>2017-05-31 22:07:22</td>\n",
       "      <td>52.237846</td>\n",
       "      <td>True</td>\n",
       "      <td>33</td>\n",
       "    </tr>\n",
       "    <tr>\n",
       "      <th>5297065</th>\n",
       "      <td>2210397</td>\n",
       "      <td>RUNNING</td>\n",
       "      <td>7</td>\n",
       "      <td>21.037224</td>\n",
       "      <td>7</td>\n",
       "      <td>2017-05-31 22:05:59</td>\n",
       "      <td>52.235138</td>\n",
       "      <td>True</td>\n",
       "      <td>6</td>\n",
       "    </tr>\n",
       "    <tr>\n",
       "      <th>5297066</th>\n",
       "      <td>2210398</td>\n",
       "      <td>RUNNING</td>\n",
       "      <td>20</td>\n",
       "      <td>21.034325</td>\n",
       "      <td>20</td>\n",
       "      <td>2017-05-31 22:07:27</td>\n",
       "      <td>52.254532</td>\n",
       "      <td>True</td>\n",
       "      <td>11</td>\n",
       "    </tr>\n",
       "    <tr>\n",
       "      <th>5297067</th>\n",
       "      <td>2210399</td>\n",
       "      <td>RUNNING</td>\n",
       "      <td>23</td>\n",
       "      <td>20.965015</td>\n",
       "      <td>23</td>\n",
       "      <td>2017-05-31 22:07:20</td>\n",
       "      <td>52.244911</td>\n",
       "      <td>True</td>\n",
       "      <td>1</td>\n",
       "    </tr>\n",
       "    <tr>\n",
       "      <th>5297068</th>\n",
       "      <td>2210400</td>\n",
       "      <td>RUNNING</td>\n",
       "      <td>33</td>\n",
       "      <td>20.958853</td>\n",
       "      <td>33</td>\n",
       "      <td>2017-05-31 22:07:28</td>\n",
       "      <td>52.267895</td>\n",
       "      <td>True</td>\n",
       "      <td>7</td>\n",
       "    </tr>\n",
       "    <tr>\n",
       "      <th>5297069</th>\n",
       "      <td>2210401</td>\n",
       "      <td>RUNNING</td>\n",
       "      <td>23</td>\n",
       "      <td>21.033796</td>\n",
       "      <td>23</td>\n",
       "      <td>2017-05-31 22:07:23</td>\n",
       "      <td>52.255642</td>\n",
       "      <td>True</td>\n",
       "      <td>7</td>\n",
       "    </tr>\n",
       "    <tr>\n",
       "      <th>5297070</th>\n",
       "      <td>2210402</td>\n",
       "      <td>RUNNING</td>\n",
       "      <td>20</td>\n",
       "      <td>21.002121</td>\n",
       "      <td>20</td>\n",
       "      <td>2017-05-31 22:07:26</td>\n",
       "      <td>52.290318</td>\n",
       "      <td>True</td>\n",
       "      <td>8</td>\n",
       "    </tr>\n",
       "    <tr>\n",
       "      <th>5297071</th>\n",
       "      <td>2210403</td>\n",
       "      <td>RUNNING</td>\n",
       "      <td>1</td>\n",
       "      <td>21.036531</td>\n",
       "      <td>1</td>\n",
       "      <td>2017-05-31 22:07:28</td>\n",
       "      <td>52.269577</td>\n",
       "      <td>True</td>\n",
       "      <td>16</td>\n",
       "    </tr>\n",
       "  </tbody>\n",
       "</table>\n",
       "</div>"
      ],
      "text/plain": [
       "           index   Status  FirstLine        Lon            Lines  \\\n",
       "5297057  2210389  RUNNING          1  20.981314  1                 \n",
       "5297058  2210390  RUNNING          1  20.985210  1                 \n",
       "5297059  2210391  RUNNING         10  21.004740  10                \n",
       "5297060  2210392  RUNNING         35  20.924740  35                \n",
       "5297061  2210393  RUNNING         33  20.934177  33                \n",
       "5297062  2210394  RUNNING         17  20.996681  17                \n",
       "5297063  2210395  RUNNING         20  21.012001  20                \n",
       "5297064  2210396  RUNNING          9  21.050053  9                 \n",
       "5297065  2210397  RUNNING          7  21.037224  7                 \n",
       "5297066  2210398  RUNNING         20  21.034325  20                \n",
       "5297067  2210399  RUNNING         23  20.965015  23                \n",
       "5297068  2210400  RUNNING         33  20.958853  33                \n",
       "5297069  2210401  RUNNING         23  21.033796  23                \n",
       "5297070  2210402  RUNNING         20  21.002121  20                \n",
       "5297071  2210403  RUNNING          1  21.036531  1                 \n",
       "\n",
       "                       Time        Lat LowFloor Brigade  \n",
       "5297057 2017-05-31 22:07:21  52.216549     True    7     \n",
       "5297058 2017-05-31 22:07:26  52.255539     True    11    \n",
       "5297059 2017-05-31 22:07:26  52.222828     True    14    \n",
       "5297060 2017-05-31 22:07:28  52.260246     True    13    \n",
       "5297061 2017-05-31 22:07:19  52.278076     True    19    \n",
       "5297062 2017-05-31 22:07:29  52.236748     True    33    \n",
       "5297063 2017-05-31 22:07:27  52.277702     True    015   \n",
       "5297064 2017-05-31 22:07:22  52.237846     True    33    \n",
       "5297065 2017-05-31 22:05:59  52.235138     True    6     \n",
       "5297066 2017-05-31 22:07:27  52.254532     True    11    \n",
       "5297067 2017-05-31 22:07:20  52.244911     True    1     \n",
       "5297068 2017-05-31 22:07:28  52.267895     True    7     \n",
       "5297069 2017-05-31 22:07:23  52.255642     True    7     \n",
       "5297070 2017-05-31 22:07:26  52.290318     True    8     \n",
       "5297071 2017-05-31 22:07:28  52.269577     True    16    "
      ]
     },
     "execution_count": 46,
     "metadata": {},
     "output_type": "execute_result"
    }
   ],
   "source": [
    "data.tail(15)"
   ]
  },
  {
   "cell_type": "markdown",
   "metadata": {},
   "source": [
    "### Status"
   ]
  },
  {
   "cell_type": "code",
   "execution_count": 47,
   "metadata": {
    "collapsed": false
   },
   "outputs": [
    {
     "data": {
      "text/plain": [
       "0"
      ]
     },
     "execution_count": 47,
     "metadata": {},
     "output_type": "execute_result"
    }
   ],
   "source": [
    "len(data[data['Status'] != 'RUNNING'])"
   ]
  },
  {
   "cell_type": "markdown",
   "metadata": {},
   "source": [
    "Kolumna Status przyjmuje tylko jedną wartość, więc można się jej pozbyć."
   ]
  },
  {
   "cell_type": "code",
   "execution_count": 48,
   "metadata": {
    "collapsed": true
   },
   "outputs": [],
   "source": [
    "data = data.drop('Status', 1)"
   ]
  },
  {
   "cell_type": "markdown",
   "metadata": {},
   "source": [
    "### FirstLine"
   ]
  },
  {
   "cell_type": "code",
   "execution_count": 49,
   "metadata": {
    "collapsed": false
   },
   "outputs": [
    {
     "data": {
      "text/plain": [
       "FirstLine\n",
       "1     292139\n",
       "2     137827\n",
       "3     184213\n",
       "4     205412\n",
       "6     208459\n",
       "7     188510\n",
       "9     476624\n",
       "10    245600\n",
       "11    182143\n",
       "13    141490\n",
       "14    114123\n",
       "15    218444\n",
       "17    282317\n",
       "18    129558\n",
       "20    183991\n",
       "22    226815\n",
       "23    175448\n",
       "24    249719\n",
       "25    188053\n",
       "26    250914\n",
       "27     97988\n",
       "28    190604\n",
       "31     97618\n",
       "33    295323\n",
       "35    257614\n",
       "44     72462\n",
       "77      3664\n",
       "dtype: int64"
      ]
     },
     "execution_count": 49,
     "metadata": {},
     "output_type": "execute_result"
    }
   ],
   "source": [
    "data.groupby('FirstLine', sort=True).size()"
   ]
  },
  {
   "cell_type": "markdown",
   "metadata": {},
   "source": [
    "* Po porównaniu zebranych danych z rozkładem jazdy okazało się, że istnieją dane dla wszystkich funkcjonujących obecnie tramwajów poza linią 77 (linia uzupełniająca).\n",
    "\n",
    "* Najmniej obserwacji znaleziono dla linii 44 - jest to linia okresowa, co oznacza, że kursuje tylko w dni nauki szkolnej i tylko w określonych porach (5-9 i 14-18).\n",
    "\n",
    "* Najwięcej obserwacji znaleziono dla linii 9 - jeździ ona bardzo często (w godzinach 8-19 nawet co kilka minut) i kursuje prawie przez całą dobę (zaczyna o 4.10, a kończy o 1.20)"
   ]
  },
  {
   "cell_type": "markdown",
   "metadata": {},
   "source": [
    "### Lat i Lon"
   ]
  },
  {
   "cell_type": "markdown",
   "metadata": {},
   "source": [
    "#### Usunięcie danych spoza Warszawy"
   ]
  },
  {
   "cell_type": "code",
   "execution_count": 50,
   "metadata": {
    "collapsed": true,
    "scrolled": true
   },
   "outputs": [],
   "source": [
    "minLat = 52.09\n",
    "maxLat = 52.36\n",
    "minLon = 20.85\n",
    "maxLon = 21.27"
   ]
  },
  {
   "cell_type": "code",
   "execution_count": 51,
   "metadata": {
    "collapsed": true
   },
   "outputs": [],
   "source": [
    "oldLen = len(data)"
   ]
  },
  {
   "cell_type": "code",
   "execution_count": 52,
   "metadata": {
    "collapsed": false
   },
   "outputs": [],
   "source": [
    "data = data[(data['Lat'] < maxLat) & (minLat < data['Lat']) & (data['Lon'] < maxLon) & (minLon < data['Lon'])]"
   ]
  },
  {
   "cell_type": "code",
   "execution_count": 53,
   "metadata": {
    "collapsed": false
   },
   "outputs": [
    {
     "data": {
      "text/plain": [
       "0.9990396581356644"
      ]
     },
     "execution_count": 53,
     "metadata": {},
     "output_type": "execute_result"
    }
   ],
   "source": [
    "len(data) / oldLen"
   ]
  },
  {
   "cell_type": "markdown",
   "metadata": {},
   "source": [
    "Istnieją dane, dla których współrzędne geograficzne były nieprawidłowe (poza granicami Warszawy), jednak było to zaledwie 0.1% danych."
   ]
  },
  {
   "cell_type": "markdown",
   "metadata": {},
   "source": [
    "#### Obliczenie prędkości"
   ]
  },
  {
   "cell_type": "code",
   "execution_count": 54,
   "metadata": {
    "collapsed": false
   },
   "outputs": [],
   "source": [
    "startTime = datetime.datetime(year=2017, month=5, day=24, hour=2)\n",
    "endTime = datetime.datetime(year=2017, month=5, day=25, hour=3)\n",
    "dataOneDay = data[(data['Time'] > startTime) & (data['Time'] < endTime)]\n",
    "n = len(dataOneDay)\n",
    "dataOneDay = dataOneDay.drop_duplicates(subset=['FirstLine', 'Brigade', 'Time']).sort_values('Time')\n",
    "dataOneDay['TimeDiff'] = dataOneDay.groupby(['FirstLine', 'Brigade'])['Time'].diff()\n",
    "dataOneDay['PrevLon'] = dataOneDay.groupby(['FirstLine', 'Brigade'])['Lon'].shift()\n",
    "dataOneDay['PrevLat'] = dataOneDay.groupby(['FirstLine', 'Brigade'])['Lat'].shift()"
   ]
  },
  {
   "cell_type": "code",
   "execution_count": 55,
   "metadata": {
    "collapsed": false
   },
   "outputs": [],
   "source": [
    "def dist(x1, y1, x2, y2):\n",
    "    if any(pandas.isnull([x1, y1, x2, y2])):\n",
    "        return 0\n",
    "    obj1 = (x1, y1)\n",
    "    obj2 = (x2, y2)\n",
    "    return vincenty(obj1, obj2).meters\n",
    "dataOneDay['Velocity'] = dataOneDay.apply(lambda x: \n",
    "                            dist(x['Lon'], x['Lat'], x['PrevLon'], x['PrevLat']) / (x['TimeDiff'].seconds if pandas.notnull(x['TimeDiff'] and x['TimeDiff']) else 1),\n",
    "                            axis=1)"
   ]
  },
  {
   "cell_type": "markdown",
   "metadata": {},
   "source": [
    "Odrzućmy dane z niewiarygodnymi prędkościami (powyżej 80km/h)."
   ]
  },
  {
   "cell_type": "code",
   "execution_count": 56,
   "metadata": {
    "collapsed": false
   },
   "outputs": [],
   "source": [
    "dataOneDay = dataOneDay[dataOneDay['Velocity'] < 23]"
   ]
  },
  {
   "cell_type": "code",
   "execution_count": 57,
   "metadata": {
    "collapsed": false
   },
   "outputs": [
    {
     "data": {
      "text/plain": [
       "<matplotlib.text.Text at 0x279077434a8>"
      ]
     },
     "execution_count": 57,
     "metadata": {},
     "output_type": "execute_result"
    },
    {
     "data": {
      "image/png": "[encoded data removed]",
      "text/plain": [
       "<matplotlib.figure.Figure at 0x27921a300f0>"
      ]
     },
     "metadata": {},
     "output_type": "display_data"
    }
   ],
   "source": [
    "plt.hist(dataOneDay['Velocity'] * 3.6)\n",
    "plt.title(\"Histogram prędkości\")"
   ]
  },
  {
   "cell_type": "markdown",
   "metadata": {},
   "source": [
    "Interesujące może być również przyjrzenie się prędkościom różnym od 0. Częste postoje na przystankach mogą nieco zaburzać obraz."
   ]
  },
  {
   "cell_type": "code",
   "execution_count": 58,
   "metadata": {
    "collapsed": false
   },
   "outputs": [
    {
     "data": {
      "text/plain": [
       "<matplotlib.text.Text at 0x2790b5cd278>"
      ]
     },
     "execution_count": 58,
     "metadata": {},
     "output_type": "execute_result"
    },
    {
     "data": {
      "image/png": "[encoded data removed]",
      "text/plain": [
       "<matplotlib.figure.Figure at 0x279a8d00710>"
      ]
     },
     "metadata": {},
     "output_type": "display_data"
    }
   ],
   "source": [
    "plt.hist(dataOneDay[dataOneDay['Velocity'] != 0]['Velocity'] * 3.6)\n",
    "plt.title(\"Histogram prędkości bez stojących\")"
   ]
  },
  {
   "cell_type": "markdown",
   "metadata": {},
   "source": [
    "W przypadku odrzucenia obserwacji stojących tramwajów niskie prędkości wciąż dominują, ale ich przewaga znacząco zmalała."
   ]
  },
  {
   "cell_type": "markdown",
   "metadata": {},
   "source": [
    "### Time"
   ]
  },
  {
   "cell_type": "code",
   "execution_count": 59,
   "metadata": {
    "collapsed": false,
    "scrolled": true
   },
   "outputs": [],
   "source": [
    "data['Day'] = data['Time'].map(lambda x: x.day)"
   ]
  },
  {
   "cell_type": "code",
   "execution_count": 60,
   "metadata": {
    "collapsed": false
   },
   "outputs": [
    {
     "data": {
      "text/plain": [
       "Day\n",
       "21    128058\n",
       "22    436128\n",
       "23    571255\n",
       "24    602265\n",
       "25    581940\n",
       "26    590683\n",
       "27    217622\n",
       "28    292584\n",
       "29    531984\n",
       "30    689803\n",
       "31    649663\n",
       "dtype: int64"
      ]
     },
     "execution_count": 60,
     "metadata": {},
     "output_type": "execute_result"
    }
   ],
   "source": [
    "data.groupby('Day').size()"
   ]
  },
  {
   "cell_type": "markdown",
   "metadata": {},
   "source": [
    "Pełne dane są dostępne tylko z okresu 23-26 i 28-30 maja."
   ]
  },
  {
   "cell_type": "code",
   "execution_count": 61,
   "metadata": {
    "collapsed": false
   },
   "outputs": [],
   "source": [
    "startTime = datetime.datetime(year=2017, month=5, day=24, hour=2)\n",
    "endTime = datetime.datetime(year=2017, month=5, day=25, hour=3)\n",
    "dataOneDay = data[(data['Time'] > startTime) & (data['Time'] < endTime)]"
   ]
  },
  {
   "cell_type": "code",
   "execution_count": null,
   "metadata": {
    "collapsed": false
   },
   "outputs": [
    {
     "data": {
      "image/png": "[encoded data removed]",
      "text/plain": [
       "<matplotlib.figure.Figure at 0x279a8cf3b70>"
      ]
     },
     "metadata": {},
     "output_type": "display_data"
    }
   ],
   "source": [
    "plt.hist([t.timestamp() for t in dataOneDay['Time']])\n",
    "locs, labels = plt.xticks()\n",
    "plt.xticks(locs,[datetime.datetime.fromtimestamp(t) for t in locs], rotation='vertical')\n",
    "plt.show()"
   ]
  },
  {
   "cell_type": "markdown",
   "metadata": {},
   "source": [
    "Na wykresie można zaobserwować, że najwięcej tramwajów kursuje w porannych i popołudniowych godzinach szczytu."
   ]
  },
  {
   "cell_type": "markdown",
   "metadata": {},
   "source": [
    "### LowFloor"
   ]
  },
  {
   "cell_type": "code",
   "execution_count": null,
   "metadata": {
    "collapsed": false
   },
   "outputs": [],
   "source": [
    "dataRoundedTime = data\n",
    "dataRoundedTime['Time'] = [t - datetime.timedelta(seconds=t.second, microseconds=t.microsecond) for t in dataRoundedTime['Time']]\n",
    "dataOneDay = dataRoundedTime[(dataRoundedTime['Time'] > startTime) & (dataRoundedTime['Time'] < endTime)]"
   ]
  },
  {
   "cell_type": "code",
   "execution_count": null,
   "metadata": {
    "collapsed": false
   },
   "outputs": [],
   "source": [
    "dataLowFloor = dataOneDay[dataOneDay['LowFloor']].groupby('Time').size()\n",
    "fig, ax = plt.subplots()\n",
    "ax.plot(dataLowFloor, label=\"niskopodłogowe\")\n",
    "dataHighFloor = dataOneDay[~dataOneDay['LowFloor']].groupby('Time').size()\n",
    "ax.plot(dataHighFloor, label=\"wysokopodłogowe\")\n",
    "legend = ax.legend(loc='upper right')\n",
    "locs, labels = plt.xticks()\n",
    "plt.xticks(locs, rotation='vertical')"
   ]
  },
  {
   "cell_type": "code",
   "execution_count": null,
   "metadata": {
    "collapsed": false
   },
   "outputs": [],
   "source": [
    "lowFloorByLine = data.groupby('FirstLine').LowFloor.agg(['sum', 'count'])\n",
    "lowFloorByLine['LowFloorFraction'] = lowFloorByLine['sum'] / lowFloorByLine['count']\n",
    "lowFloorByLine.sort_values('LowFloorFraction', ascending=False, inplace=True)\n",
    "lowFloorByLine = lowFloorByLine.reset_index()"
   ]
  },
  {
   "cell_type": "code",
   "execution_count": null,
   "metadata": {
    "collapsed": false
   },
   "outputs": [],
   "source": [
    "plt.bar(list(range(len(lowFloorByLine))), lowFloorByLine['LowFloorFraction'], tick_label=lowFloorByLine['FirstLine'])\n",
    "plt.title(\"Frakcja tramwajów niskopodłogowych na liniach\")"
   ]
  },
  {
   "cell_type": "markdown",
   "metadata": {},
   "source": [
    "Procentowo najwięcej wysokopodłogowych tramwajów kursuje na linii 44 - linii okresowej."
   ]
  },
  {
   "cell_type": "markdown",
   "metadata": {},
   "source": [
    "### Porównanie dnia powszedniego i niedzieli"
   ]
  },
  {
   "cell_type": "code",
   "execution_count": null,
   "metadata": {
    "collapsed": false
   },
   "outputs": [],
   "source": [
    "startTime = datetime.datetime(year=2017, month=5, day=24, hour=2)\n",
    "endTime = datetime.datetime(year=2017, month=5, day=25, hour=3)\n",
    "data24 = dataRoundedTime[(dataRoundedTime['Time'] > startTime) & (dataRoundedTime['Time'] < endTime)]\n",
    "data24['Time'] = [t.time() for t in data24['Time']]\n",
    "startTime = datetime.datetime(year=2017, month=5, day=28, hour=2)\n",
    "endTime = datetime.datetime(year=2017, month=5, day=29, hour=3)\n",
    "data28 = dataRoundedTime[(dataRoundedTime['Time'] > startTime) & (dataRoundedTime['Time'] < endTime)]\n",
    "data28['Time'] = [t.time() for t in data28['Time']]\n",
    "fig, ax = plt.subplots()\n",
    "ax.plot(data24.groupby('Time').size(), label=\"środa\")\n",
    "ax.plot(data28.groupby('Time').size(), label=\"niedziela\")\n",
    "legend = ax.legend(loc='upper right')\n",
    "locs, labels = plt.xticks()\n",
    "plt.xticks(locs, rotation='vertical')"
   ]
  },
  {
   "cell_type": "markdown",
   "metadata": {
    "collapsed": true
   },
   "source": [
    "W niedzielę tramwajów jest zauważalnie mniej. Ponadto ich rozkład jest bardziej równomierny - w przeciwieństwie do danych ze środy nie ma spadku w godzinach 11-14."
   ]
  }
 ],
 "metadata": {
  "kernelspec": {
   "display_name": "Python 3",
   "language": "python",
   "name": "python3"
  },
  "language_info": {
   "codemirror_mode": {
    "name": "ipython",
    "version": 3
   },
   "file_extension": ".py",
   "mimetype": "text/x-python",
   "name": "python",
   "nbconvert_exporter": "python",
   "pygments_lexer": "ipython3",
   "version": "3.5.3"
  }
 },
 "nbformat": 4,
 "nbformat_minor": 0
}
